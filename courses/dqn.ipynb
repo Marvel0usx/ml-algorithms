{
  "cells": [
    {
      "cell_type": "markdown",
      "metadata": {
        "id": "V3szwJAdaoQa"
      },
      "source": [
        "### Enable rendering OpenAI Gym environments from CoLab\n",
        "\n",
        "In this assignemnt, We will use [OpenAI Gym](https://gym.openai.com/) for rendering game envionment for our agent to play and learn. It is possible and important to visualize the game your agent is playing, even on Colab. This section imports the necessary package and functions needed to generate a video in Colab. The video processing steps credit to [here](https://colab.research.google.com/drive/1flu31ulJlgiRL1dnN2ir8wGh9p7Zij2t)."
      ]
    },
    {
      "cell_type": "code",
      "execution_count": 1,
      "metadata": {
        "colab": {
          "base_uri": "https://localhost:8080/"
        },
        "id": "M9fFfA-gb8oC",
        "outputId": "94394ccf-4d83-4cb3-8fcb-a178822c8274"
      },
      "outputs": [
        {
          "output_type": "stream",
          "name": "stdout",
          "text": [
            "Looking in indexes: https://pypi.org/simple, https://us-python.pkg.dev/colab-wheels/public/simple/\n",
            "Requirement already satisfied: setuptools in /usr/local/lib/python3.9/dist-packages (67.6.1)\n"
          ]
        }
      ],
      "source": [
        "# You will need to run this block twice to make it effective\n",
        "!apt-get update > /dev/null 2>&1\n",
        "!apt-get install cmake > /dev/null 2>&1\n",
        "!pip install --upgrade setuptools 2>&1\n",
        "!pip install ez_setup > /dev/null 2>&1\n",
        "!pip install gym[atari] > /dev/null 2>&1\n",
        "!pip install box2d-py > /dev/null 2>&1\n",
        "!pip install gym[Box_2D] > /dev/null 2>&1"
      ]
    },
    {
      "cell_type": "code",
      "execution_count": 2,
      "metadata": {
        "colab": {
          "base_uri": "https://localhost:8080/"
        },
        "outputId": "b5fe655a-bd9b-4f6e-fcc3-38ca29cd1f48",
        "id": "q1DBJl1InxbP"
      },
      "outputs": [
        {
          "output_type": "stream",
          "name": "stdout",
          "text": [
            "Looking in indexes: https://pypi.org/simple, https://us-python.pkg.dev/colab-wheels/public/simple/\n",
            "Requirement already satisfied: setuptools in /usr/local/lib/python3.9/dist-packages (67.6.1)\n"
          ]
        }
      ],
      "source": [
        "# You will need to run this block twice to make it effective\n",
        "!apt-get update > /dev/null 2>&1\n",
        "!apt-get install cmake > /dev/null 2>&1\n",
        "!pip install --upgrade setuptools 2>&1\n",
        "!pip install ez_setup > /dev/null 2>&1\n",
        "!pip install gym[atari] > /dev/null 2>&1\n",
        "!pip install box2d-py > /dev/null 2>&1\n",
        "!pip install gym[Box_2D] > /dev/null 2>&1"
      ]
    },
    {
      "cell_type": "code",
      "execution_count": 3,
      "metadata": {
        "id": "NE1QQOVX27dp"
      },
      "outputs": [],
      "source": [
        "!pip install gym==0.15.3 pyvirtualdisplay > /dev/null 2>&1\n",
        "!apt-get install -y xvfb python-opengl ffmpeg > /dev/null 2>&1"
      ]
    },
    {
      "cell_type": "markdown",
      "metadata": {
        "id": "QfTPg6uZckCm"
      },
      "source": [
        "Import openAI gym and define the functions used to show the video."
      ]
    },
    {
      "cell_type": "code",
      "execution_count": 4,
      "metadata": {
        "id": "JLl9cs6ncAf0"
      },
      "outputs": [],
      "source": [
        "import gym\n",
        "from gym.wrappers import Monitor\n",
        "import glob\n",
        "import io\n",
        "import base64\n",
        "from IPython.display import HTML\n",
        "from pyvirtualdisplay import Display\n",
        "from IPython import display as ipythondisplay\n",
        "\n",
        "display = Display(visible=0, size=(1400, 900))\n",
        "display.start()\n",
        "\n",
        "\"\"\"\n",
        "Utility functions to enable video recording of gym environment \n",
        "and displaying it.\n",
        "To enable video, just do \"env = wrap_env(env)\"\"\n",
        "\"\"\"\n",
        "\n",
        "def show_video():\n",
        "  mp4list = glob.glob('video/*.mp4')\n",
        "  if len(mp4list) > 0:\n",
        "    mp4 = mp4list[0]\n",
        "    video = io.open(mp4, 'r+b').read()\n",
        "    encoded = base64.b64encode(video)\n",
        "    ipythondisplay.display(HTML(data='''<video alt=\"test\" autoplay \n",
        "                loop controls style=\"height: 400px;\">\n",
        "                <source src=\"data:video/mp4;base64,{0}\" type=\"video/mp4\" />\n",
        "             </video>'''.format(encoded.decode('ascii'))))\n",
        "  else: \n",
        "    print(\"Could not find video\")\n",
        "    \n",
        "\n",
        "def wrap_env(env):\n",
        "  env = Monitor(env, './video', force=True)\n",
        "  return env"
      ]
    },
    {
      "cell_type": "markdown",
      "metadata": {
        "id": "UHkrflTWakKd"
      },
      "source": [
        "Import other packages:\n",
        "\n",
        "We will use Pytorch for building and learning our DQN network."
      ]
    },
    {
      "cell_type": "code",
      "execution_count": 5,
      "metadata": {
        "id": "9KvZYSl6RrzD"
      },
      "outputs": [],
      "source": [
        "import torch\n",
        "from torch import nn\n",
        "import copy\n",
        "from collections import deque\n",
        "import random\n",
        "from tqdm import tqdm\n",
        "import matplotlib.pyplot as plt\n",
        "\n",
        "random.seed(42)"
      ]
    },
    {
      "cell_type": "markdown",
      "metadata": {
        "id": "zrLGCk-3ditk"
      },
      "source": [
        "## Run the game with random agent."
      ]
    },
    {
      "cell_type": "code",
      "execution_count": 6,
      "metadata": {
        "id": "ZMcGALcWeWfh",
        "colab": {
          "base_uri": "https://localhost:8080/",
          "height": 456
        },
        "outputId": "34250139-411e-4e91-cc19-b056c5ef1abb"
      },
      "outputs": [
        {
          "output_type": "stream",
          "name": "stderr",
          "text": [
            "100%|██████████| 20/20 [00:07<00:00,  2.73it/s]"
          ]
        },
        {
          "output_type": "stream",
          "name": "stdout",
          "text": [
            "average reward per episode : 23.3\n"
          ]
        },
        {
          "output_type": "stream",
          "name": "stderr",
          "text": [
            "\n"
          ]
        },
        {
          "output_type": "display_data",
          "data": {
            "text/plain": [
              "<IPython.core.display.HTML object>"
            ],
            "text/html": [
              "<video alt=\"test\" autoplay \n",
              "                loop controls style=\"height: 400px;\">\n",
              "                <source src=\"data:video/mp4;base64,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\" type=\"video/mp4\" />\n",
              "             </video>"
            ]
          },
          "metadata": {}
        }
      ],
      "source": [
        "from torch import randint\n",
        "from time import sleep\n",
        "\n",
        "env = wrap_env(gym.make('CartPole-v1'))\n",
        "reward_arr = []\n",
        "episode_count = 20\n",
        "for i in tqdm(range(episode_count)):\n",
        "    obs, done, rew = env.reset(), False, 0\n",
        "    env.render()\n",
        "    while not done:\n",
        "        A = randint(0, env.action_space.n, (1,))\n",
        "        obs, reward, done, info = env.step(A.item())\n",
        "        rew += reward\n",
        "        sleep(0.01)\n",
        "    reward_arr.append(rew)\n",
        "print(\"average reward per episode :\", sum(reward_arr) / len(reward_arr))\n",
        "env.close()\n",
        "show_video()"
      ]
    },
    {
      "cell_type": "markdown",
      "metadata": {
        "id": "Ope0zHAjfXQh"
      },
      "source": [
        "The episode ends when the pole is more than 15 degrees from vertical, or the cart moves more than 2.4 units from the center. The video is short (< 1s) because the pole loses balance immediately. \n",
        "\n",
        "You can see that a random agent is having trouble balancing the CartPole, just like you. However, a difficult game for human may be very simple to a computer. Let's see how we can use DQN to train a agent. "
      ]
    },
    {
      "cell_type": "markdown",
      "metadata": {
        "id": "OjP_2jn3SFgv"
      },
      "source": [
        "## Experience Replay\n",
        "\n",
        "The technique of experience replay was first proposed in to resolve temporal correlation in the input data by mixing recent experiences as well past experiences, essentially forcing the input to become independent and identically distributed (i.i.d.). It has been shown that this greatly stabilizes\n",
        "and improves the DQN training procedure."
      ]
    },
    {
      "cell_type": "code",
      "execution_count": 7,
      "metadata": {
        "id": "SoxW1Jlnk8mS"
      },
      "outputs": [],
      "source": [
        "class ExperienceReplay(object):\n",
        "      def __init__(self, length):\n",
        "        self.experience_replay = deque(maxlen=length)\n",
        "\n",
        "      def collect(self, experience):\n",
        "        self.experience_replay.append(experience)\n",
        "        return\n",
        "\n",
        "      def sample_from_experience(self, sample_size):\n",
        "        if len(self.experience_replay) < sample_size:\n",
        "            sample_size = len(self.experience_replay)\n",
        "        sample = random.sample(self.experience_replay, sample_size)\n",
        "        state = torch.tensor([exp[0] for exp in sample]).float()\n",
        "        action = torch.tensor([exp[1] for exp in sample]).float()\n",
        "        reward = torch.tensor([exp[2] for exp in sample]).float()\n",
        "        next_state = torch.tensor([exp[3] for exp in sample]).float()\n",
        "        return state, action, reward, next_state\n"
      ]
    },
    {
      "cell_type": "markdown",
      "metadata": {
        "id": "CgXwmV2im4Sx"
      },
      "source": [
        "## Build our DQN Network\n",
        "\n",
        "We will use a simple multi-layer neural network to learn the optimal actions. We will use Adam Optimizor and MSE loss for training. **Notice that the loss function and gamma is given to you in the class attribute.** "
      ]
    },
    {
      "cell_type": "code",
      "execution_count": 8,
      "metadata": {
        "id": "Wmd1pfuRm7MQ"
      },
      "outputs": [],
      "source": [
        "class DQN_Network:\n",
        "\n",
        "    def __init__(self, layer_size_list, lr, seed=1423):\n",
        "        torch.manual_seed(seed)\n",
        "        self.policy_net = self.create_network(layer_size_list)\n",
        "        self.target_net = copy.deepcopy(self.policy_net)\n",
        "  \n",
        "        self.loss_fn = torch.nn.MSELoss() # the loss function\n",
        "        self.optimizer = torch.optim.Adam(self.policy_net.parameters(), lr=lr)\n",
        "\n",
        "        self.step = 0\n",
        "        self.gamma = torch.tensor(0.95).float()\n",
        "        return\n",
        "\n",
        "    def create_network(self, layer_size_list):\n",
        "        assert len(layer_size_list) > 1\n",
        "\n",
        "        layers = []\n",
        "        for i in range(len(layer_size_list) - 1):\n",
        "            linear = nn.Linear(layer_size_list[i], layer_size_list[i + 1])\n",
        "\n",
        "            if i < len(layer_size_list) - 2:\n",
        "              activation = nn.Tanh()\n",
        "            else:\n",
        "              activation = nn.Identity()\n",
        "\n",
        "            layers += (linear, activation)\n",
        "        return nn.Sequential(*layers)\n",
        "\n",
        "    def load_pretrained_model(self, model_path):\n",
        "        self.policy_net.load_state_dict(torch.load(model_path))\n",
        "\n",
        "    def save_trained_model(self, model_path=\"cartpole-dqn.pth\"):\n",
        "        torch.save(self.policy_net.state_dict(), model_path)\n"
      ]
    },
    {
      "cell_type": "markdown",
      "metadata": {
        "id": "xKVV16YctASm"
      },
      "source": [
        "## **[Your task]**: complete the function that chooses the next action\n",
        "\n",
        "Choose next action based on **$\\epsilon$-greedy**:\n",
        "\n",
        "\\begin{align}\\text{where} \\quad \\mathcal{a_{t+1}} = \\begin{cases}\n",
        "     \\text{argmax}_{a}Q(a, s)  & \\text{with probability }: 1 - \\epsilon, \\text{exploitation}\\\\\n",
        "     \\text{Uniform}\\{a_{1},...,a_{n}\\} & \\text{with probability}:   \\epsilon, \\text{exploration} \\\\\n",
        "   \\end{cases}\\end{align}"
      ]
    },
    {
      "cell_type": "code",
      "execution_count": 9,
      "metadata": {
        "id": "iE0gVweYs8xW"
      },
      "outputs": [],
      "source": [
        "def get_action(model, state, action_space_len, epsilon):\n",
        "    # We do not require gradient at this point, because this function will be used either\n",
        "    # during experience collection or during inference\n",
        "\n",
        "    with torch.no_grad():\n",
        "        Qp = model.policy_net(torch.from_numpy(state).float())\n",
        "\n",
        "    ## TODO: select and return action based on epsilon-greedy\n",
        "    if torch.rand(1) <= epsilon:\n",
        "        # exploration\n",
        "        return torch.randint(0, action_space_len, (1,))\n",
        "    else:\n",
        "        # exploitation\n",
        "        return torch.argmax(Qp)"
      ]
    },
    {
      "cell_type": "markdown",
      "metadata": {
        "id": "iF9a5-IbazjQ"
      },
      "source": [
        "### **[Your task]**: complete the function that train the network for one step\n",
        "\n",
        "Here, you can find an ``train`` function that performs a\n",
        "single step of the optimization. \n",
        "\n",
        "For our training update rule, the loss you are trying to minimize is:\n",
        "\n",
        "\\begin{align}\\text{loss} = Q(s, a) - (r + \\gamma \\max_a Q(s', a))\\end{align}"
      ]
    },
    {
      "cell_type": "code",
      "execution_count": 10,
      "metadata": {
        "id": "mtx4FAiab0Hp"
      },
      "outputs": [],
      "source": [
        "def train(model, batch_size):\n",
        "    state, action, reward, next_state = memory.sample_from_experience(sample_size=batch_size)\n",
        "\n",
        "    # TODO: predict expected return of current state using main network\n",
        "    action_mask = action.view(action.shape[0], 1)\n",
        "    action_mask = torch.hstack((1 - action_mask, action_mask)).bool()    \n",
        "    \n",
        "    Q_pi = model.policy_net(state)[action_mask]\n",
        "\n",
        "    # TODO: get target return using target network\n",
        "\n",
        "    Q_phi, _ = torch.max(model.target_net(next_state), dim=1)\n",
        "    Q_phi = reward + model.gamma * Q_phi\n",
        "\n",
        "    # TODO: compute the loss\n",
        "\n",
        "    loss = model.loss_fn(Q_pi, Q_phi)\n",
        "    model.optimizer.zero_grad()\n",
        "    loss.backward(retain_graph=True)\n",
        "    model.optimizer.step()\n",
        "\n",
        "    model.step += 1\n",
        "    if model.step % 5 == 0:\n",
        "        model.target_net.load_state_dict(model.policy_net.state_dict())\n",
        "\n",
        "    return loss.item()"
      ]
    },
    {
      "cell_type": "markdown",
      "metadata": {
        "id": "uskoe87Uz-Jg"
      },
      "source": [
        "### **[Your task]**: Finish the training loop\n",
        "\n",
        "In this part, you can play around with ```exp_replay_size```, ```episode```, ```epsilon``` and the \"episodo decay\" logic to train your model. **If you have done correctly, you will observe that the training time for the latter episodes is longer than the early episodes. This is because your agent is getting better and better at playing the game and thus each episode takes longer**"
      ]
    },
    {
      "cell_type": "code",
      "execution_count": 11,
      "metadata": {
        "id": "3NfNnyD6SPpN",
        "colab": {
          "base_uri": "https://localhost:8080/"
        },
        "outputId": "0053c538-8ce3-4bbb-a458-48f4d9ef275a"
      },
      "outputs": [
        {
          "output_type": "stream",
          "name": "stderr",
          "text": [
            "  0%|          | 0/10000 [00:00<?, ?it/s]<ipython-input-7-6c1cb76f3791>:13: UserWarning: Creating a tensor from a list of numpy.ndarrays is extremely slow. Please consider converting the list to a single numpy.ndarray with numpy.array() before converting to a tensor. (Triggered internally at ../torch/csrc/utils/tensor_new.cpp:245.)\n",
            "  state = torch.tensor([exp[0] for exp in sample]).float()\n",
            "100%|██████████| 10000/10000 [03:26<00:00, 48.35it/s]"
          ]
        },
        {
          "output_type": "stream",
          "name": "stdout",
          "text": [
            "Saving trained model\n"
          ]
        },
        {
          "output_type": "stream",
          "name": "stderr",
          "text": [
            "\n"
          ]
        }
      ],
      "source": [
        "# Create the model\n",
        "env = gym.make('CartPole-v0')\n",
        "input_dim = env.observation_space.shape[0]\n",
        "output_dim = env.action_space.n\n",
        "agent = DQN_Network(layer_size_list=[input_dim, 64, output_dim], lr=1e-3)\n",
        "\n",
        "# Main training loop\n",
        "losses_list, reward_list, episode_len_list, epsilon_list = [], [], [], []\n",
        "\n",
        "# TODO: try different values, it normally takes more than 6k episodes to train\n",
        "exp_replay_size = 256\n",
        "memory = ExperienceReplay(exp_replay_size)\n",
        "episodes = 10000\n",
        "epsilon = 1 # episilon start from 1 and decay gradually. \n",
        "\n",
        "# initiliaze experiance replay\n",
        "index = 0\n",
        "for i in range(exp_replay_size):\n",
        "    obs = env.reset()\n",
        "    done = False\n",
        "    while not done:\n",
        "        A = get_action(agent, obs, env.action_space.n, epsilon=1)\n",
        "        obs_next, reward, done, _ = env.step(A.item())\n",
        "        memory.collect([obs, A.item(), reward, obs_next])\n",
        "        obs = obs_next\n",
        "        index += 1\n",
        "        if index > exp_replay_size:\n",
        "            break\n",
        "\n",
        "index = 128\n",
        "for i in tqdm(range(episodes)):\n",
        "    obs, done, losses, ep_len, rew = env.reset(), False, 0, 0, 0\n",
        "    while not done:\n",
        "        ep_len += 1\n",
        "        A = get_action(agent, obs, env.action_space.n, epsilon)\n",
        "        obs_next, reward, done, _ = env.step(A.item())\n",
        "        memory.collect([obs, A.item(), reward, obs_next])\n",
        "\n",
        "        obs = obs_next\n",
        "        rew += reward\n",
        "        index += 1\n",
        "\n",
        "        if index > 128:\n",
        "            index = 0\n",
        "            for j in range(4):\n",
        "                loss = train(agent, batch_size=16)\n",
        "                losses += loss\n",
        "    \n",
        "    # TODO: add epsilon decay rule here! \n",
        "    epsilon *= .999\n",
        "\n",
        "    losses_list.append(losses / ep_len), reward_list.append(rew)\n",
        "    episode_len_list.append(ep_len), epsilon_list.append(epsilon)\n",
        "\n",
        "print(\"Saving trained model\")\n",
        "agent.save_trained_model(\"cartpole-dqn.pth\")"
      ]
    },
    {
      "cell_type": "markdown",
      "metadata": {
        "id": "CCow7jNXf5YT"
      },
      "source": [
        "## Last Step: evaluate your trained model! **Make sure to include your visualizations (plot+video) in the notebook for your submission!**\n",
        "\n",
        "First we can plot the reward vs. episode. **If you have done correctly, you should see the reward can stabilize at 200 in later episodes**\\"
      ]
    },
    {
      "cell_type": "code",
      "execution_count": 12,
      "metadata": {
        "id": "-Hy_FP7yeXA4",
        "colab": {
          "base_uri": "https://localhost:8080/",
          "height": 472
        },
        "outputId": "600ff8b4-680c-4b26-957a-e0889ea89321"
      },
      "outputs": [
        {
          "output_type": "display_data",
          "data": {
            "text/plain": [
              "<Figure size 640x480 with 1 Axes>"
            ],
            "image/png": "[encoded data removed]"
          },
          "metadata": {}
        }
      ],
      "source": [
        "def plot_reward(r):\n",
        "    plt.figure(2)\n",
        "    plt.clf()\n",
        "    plt.title('Result')\n",
        "    plt.xlabel('Episode')\n",
        "    plt.ylabel('Reward')\n",
        "    plt.plot(r)\n",
        "\n",
        "plot_reward(reward_list)"
      ]
    },
    {
      "cell_type": "markdown",
      "metadata": {
        "id": "EixOpGakoyi4"
      },
      "source": [
        "Next let check out how well your agent plays the game. **If you have done correctly, you should see a relatively longer video (> 3~4s) with a self-balancing pole.**"
      ]
    },
    {
      "cell_type": "code",
      "execution_count": 13,
      "metadata": {
        "id": "EMEivKldTGVG",
        "colab": {
          "base_uri": "https://localhost:8080/",
          "height": 456
        },
        "outputId": "b5bc3fc4-b91d-4d78-eab4-f632892f03bc"
      },
      "outputs": [
        {
          "output_type": "stream",
          "name": "stderr",
          "text": [
            "100%|██████████| 200/200 [00:18<00:00, 10.76it/s]"
          ]
        },
        {
          "output_type": "stream",
          "name": "stdout",
          "text": [
            "average reward per episode : 199.43\n"
          ]
        },
        {
          "output_type": "stream",
          "name": "stderr",
          "text": [
            "\n"
          ]
        },
        {
          "output_type": "display_data",
          "data": {
            "text/plain": [
              "<IPython.core.display.HTML object>"
            ],
            "text/html": [
              "<video alt=\"test\" autoplay \n",
              "                loop controls style=\"height: 400px;\">\n",
              "                <source src=\"data:video/mp4;base64,AAAAIGZ0eXBpc29tAAACAGlzb21pc28yYXZjMW1wNDEAAAAIZnJlZQAAZ0dtZGF0AAACrgYF//+q3EXpvebZSLeWLNgg2SPu73gyNjQgLSBjb3JlIDE1NSByMjkxNyAwYTg0ZDk4IC0gSC4yNjQvTVBFRy00IEFWQyBjb2RlYyAtIENvcHlsZWZ0IDIwMDMtMjAxOCAtIGh0dHA6Ly93d3cudmlkZW9sYW4ub3JnL3gyNjQuaHRtbCAtIG9wdGlvbnM6IGNhYmFjPTEgcmVmPTMgZGVibG9jaz0xOjA6MCBhbmFseXNlPTB4MzoweDExMyBtZT1oZXggc3VibWU9NyBwc3k9MSBwc3lfcmQ9MS4wMDowLjAwIG1peGVkX3JlZj0xIG1lX3JhbmdlPTE2IGNocm9tYV9tZT0xIHRyZWxsaXM9MSA4eDhkY3Q9MSBjcW09MCBkZWFkem9uZT0yMSwxMSBmYXN0X3Bza2lwPTEgY2hyb21hX3FwX29mZnNldD0tMiB0aHJlYWRzPTMgbG9va2FoZWFkX3RocmVhZHM9MSBzbGljZWRfdGhyZWFkcz0wIG5yPTAgZGVjaW1hdGU9MSBpbnRlcmxhY2VkPTAgYmx1cmF5X2NvbXBhdD0wIGNvbnN0cmFpbmVkX2ludHJhPTAgYmZyYW1lcz0zIGJfcHlyYW1pZD0yIGJfYWRhcHQ9MSBiX2JpYXM9MCBkaXJlY3Q9MSB3ZWlnaHRiPTEgb3Blbl9nb3A9MCB3ZWlnaHRwPTIga2V5aW50PTI1MCBrZXlpbnRfbWluPTI1IHNjZW5lY3V0PTQwIGludHJhX3JlZnJlc2g9MCByY19sb29rYWhlYWQ9NDAgcmM9Y3JmIG1idHJlZT0xIGNyZj0yMy4wIHFjb21wPTAuNjAgcXBtaW49MCBxcG1heD02OSBxcHN0ZXA9NCBpcF9yYXRpbz0xLjQwIGFxPTE6MS4wMACAAAACL2WIhAAz//727L4FNf2f0JcRLMXaSnA+KqSAgHc0wAAAAwAAAwAAFgn0I7DkqgN3QAAAHGAFBCwCPCVC2EhH2Olc/N/yzTtGgVNzMYjfpibX5gKhPzkE9QeehCyGXH6HVnaje31t7AaxmZvw0Cs53gL3pujtBEY/VNly7C6OIu/Oa1YCDX1PUYMEhUQT6eZzmJtrGRHEM+L+Ocv7UJ1mlmdyUyMOa0zOzUYadhc7YTdCzh5FHD8wXXyw3/lJHtPMs8ebCqJqxtdtmvadw7FKDThSJ2qFHOisnLzclkVjHZEYxWMA8gQCjtiXzq/9VzpEQPf7kkE0OOAYvtsU47CSVibcKjDOEbQj530ivenBT50D3TmgYgIuzCCR5S9UEJwLYaW6ptQEUxCF71p80o/6h9oOP2UGo6J+fKkqecBzJoJ9RMPyadLj/Ui5nl3/9NUMQ0gG8tGZfMtbIsSB1WEd6ihYA7DTeDCWCz5G45VAno/kbO4n3GfWCapwbPsYdT9MHMtwYGf9lU8Ba/D8PxSXL9Y+ZyYBRcyiBspr/jcBrTgSiz3xTEtMnvTQQFqYcKsi1rmO1FV3RV0CTH1YfZcbhRsTt746vskipT8uBtnhiKCiQ7AY4TAAXcEQ3CRl51FRJH8fjHJmj17ieYfozJOG71x1AAKg5npkNXEV1emS2HDDn1IgcpDYiA1nEdl85zzjzae1staIZ5pY4LtnDOKhBh0MAz+yAkQAAAMAAAMAEBEAAADcQZokbEM//p4QAABFTBWoAT+wKbO0EUUA920o81mTNDfAj+OKdnTB0O4W4TyBmrdIWxLph/elG4mdu4S4QFIFOu9ie+NHUAtit4+/Wz5UWII0nw8gru0PIfEMg/J0MPJIMBu9R8dWB+ZLt0bD3nHUDTK2RLbVJMWE6v+ZJbatWcjV1wrapc2wlu+PYAlZ6Q2bbUOViAMRex+e7UOIgndeAkahM8XNsqdAQDOBwg2aPAaj7ki7lDX0E/g3U0H2ADxy1wRXpkW4awthDQYAAAMAAt35p7RTKr+SlyqqYAAAADZBnkJ4hH8AABarW0rVjaPNK+fWOxmHo5Qd/EnFloAPbrmr2MSUJZ5H5CWAAAADAof5D7lgWUEAAABNAZ5hdEf/AAAkuME3VvCg1BoW3NK9fR9WDLvFHYeQAD7PP8FwIL14gmBfHyn4XiyDJ7ZL0WBRRXVFUgbYnJBGgAAAAwAABgUNnjCA1YAAAAAzAZ5jakf/AAAksewG3cEy93ecJANrwlHGwwFDpugBMTUr2nfQr9rcYAAAAwAC+RwDwgcdAAAAe0GaaEmoQWiZTAhn//6eEAAARVFKm4AUCdPCyMcK//ZLaeIK67TIq/hUeE0zjUm3Rbdm+x/nPvN57BHzG8MUlXAO3RdDfdd/jbEfd6VYZ+kwRDoGWGIgYrOi2grSxn+swE/fSJsZAyI3NvennZAe0R679zCCcyLikKlYSwAAADtBnoZFESwj/wAACGwKS+VWmNEBiuEj0E4RaufdpQ0FDqAAIa6a96ef9M9XbVTO5njPgVGQcrkn2owBOwAAACYBnqV0R/8AACO61EyBHzQ4Pbdk5IpDCkFz251JG8cheFMqfMABswAAADYBnqdqR/8AACNEvUbbI4syJz54YnNVROvjJyZLgATgz5qyA14FUvlVCrL4EIpv4VFFcEdioxYAAAB0QZqsSahBbJlMCGf//p4QAAAJ/7P41E+K4ADN0CfKbZknMXEKtMOP1E69tfSDa+47f16f/WDtv5YN4ZJ9IB3bVBUe5A8oIpMCCeKzsIE7rmtaNgm59gGhNP7QZdMR/ITa7Z2p225ytCaTkM29cBLdPS1yxjoAAAApQZ7KRRUsI/8AAAMDOWCe2fkXtQ+TN/DaEeBl7+y+50wpPkEwKtEwmbkAAAAxAZ7pdEf/AAAj1xUAHFSf9fxhOSOpJPywLrpZFT6sPzVSj6iX5iQb+HIz6okEj7Ql4AAAACsBnutqR/8AAAUdQJkjHrT+GWIu+7gAC1YQmO+6Htd30Fspeeu3qkHfKmm4AAAASUGa8EmoQWyZTAhn//6eEAAARUiXIA5RvBYmJrMj+fR6Qip9Q46hirLs9u1A6OG77qXtnDoxvTMrpmLPMCe3E9OMcl+EIHi8wIsAAAA1QZ8ORRUsI/8AABakZn5DBdMbPpDZesfhPKhZHlCDzMJzXNq6ABsXSbEE6uhqpfhcEKcGtmEAAAAZAZ8tdEf/AAAjw0CrfstP3AxEJBfj+YKc3QAAAC0Bny9qR/8AACOyMjybchvLnrVD8kaqZ4AW7NmrvaaN98J6tc8mJHitL0LObMAAAAA6QZs0SahBbJlMCF///oywAABGAtD5nNY6FTupdVxlQkN6JABSesOsX9VreYVNV72Cz5oxXytlBMpEwAAAACZBn1JFFSwj/wAAFr51tCEyL4AJo2dqDuayjHkErb284mbVW6oJGQAAADEBn3F0R/8AACOsMjZqAFr7Aoo6AqlVytRgdi2W52Jk7R9h+1PONSHpp7LSai1/TM+mAAAAJQGfc2pH/wAAI78dNRj1sWJ6AFtnm/TjdJ2U1nRAdDgybBuYrSAAAABVQZt3SahBbJlMCGf//p4QAAADAId7+MYrimWN+BEIB9YQ9dApVseElTVufCg19TE/Rv+n4GG8M49/DI1jolW3V/FTFGTLCvQqaQW7HtCE1Hw/QKeOgQAAACxBn5VFFSwj/wAAFqW9cgNIjKRPH7QFMzYnZPVG08dFzAAmajIEouvcVu9S4AAAACABn7ZqR/8AACOehhnnOREyJLWHrlpABOL1esBjdBeUXQAAADxBm7tJqEFsmUwIZ//+nhAAAEVFBe9Xfevq+92UuIa0lLD52P9YSTPPyaV2QdeAFYiILRWIjPcqKpL9Xi8AAAApQZ/ZRRUsI/8AABa1WFWKzkAJpZGEmQ7AkDH1PmsnXq3youXMKBgDvcAAAABAAZ/4dEf/AAAjn/3FSBABxlhXNlhSFaXykD5A/97IOu/X8JxxfKNcwi6L282SUaAWzQdmvcIFa+G/GnJ+mmbD3QAAACcBn/pqR/8AACOaREcDyic1yY576OMP0ofjuACZZqojTw8zuMs8e4AAAABIQZv/SahBbJlMCGf//p4QAABFVKlOgMBwgBBE9+5ySAyeuZN1U6AvwI/s5+6Sjd8FQwRBYXUkPeWA/BszdOK2+12Xz/l43B1ZAAAAG0GeHUUVLCP/AAAWs5l38RLyOFxl/5/4IP/LzQAAABIBnjx0R/8AAAMACji5wofvqoAAAAAfAZ4+akf/AAAjsisHSQgAlj81z2xtYmPPgTxJOg/ZQQAAAFxBmiNJqEFsmUwIZ//+nhAAAEWLuO63tgAcUfgE1yNAcbeCUr1q29+75vWuFW2AKqoKdY3vQI4HrYcq/JjyCQ1wmEd0GgDtAlpo1+KT7vrwnxyJWx4HIo/9e+7H4QAAACpBnkFFFSwj/wAAFrxO+CBU+GI6o+SMQIEYgBCIEuc73HJa1ozN2R1gIiwAAAAVAZ5gdEf/AAADALoLbzJdB2bXj7YtAAAAHgGeYmpH/wAAI78b3v2PW9Oeh+agra3fPfj7o7NqQAAAAClBmmdJqEFsmUwIZ//+nhAAAEeWgk7986//99Qyl+f9WSNdf08phwA3tQAAACxBnoVFFSwj/wAAF0Uy7KEACL2cHoSzfVK+b9EuPo2a8MzN5kq1HtuKdytoQQAAACwBnqR0R/8AACTDF09XyHgBeF1J3bqaTIhz43FIkmeeTFQPB1qJ3uMWPZDo+QAAAB0BnqZqR/8AACS5wYVxYAOJvloR+0qKeQLN9WZ3oQAAAFxBmqtJqEFsmUwIZ//+nhAAAEdFCDQBw1hV087RGzFXAT9YX+x/vKoBydbx4FLmzsprqDozKDL06OiLl9v9WW1T+kCLB4i0lko2FD/nWFDW2amkO3CInw7R3ggG9AAAAC1BnslFFSwj/wAAF0Uq4ZjIrWZgDQqAFs7aUgMB/S0PwENnlNMNjcEdXxe3xS8AAAAuAZ7odEf/AAAkyGEbmm5KgA4lN7s0z+P5FpAZna9P3BGvUikzjWxUJ/QMEb2m4QAAACABnupqR/8AAAMB8MlRhuUGuMhcw/EA5md/ONugTJ7XgAAAAGBBmu9JqEFsmUwIZ//+nhAAAEeWgkjBgIY16yXzRPYo0E1kx8FZy6kgUOAaLsdC/0VPKt1zZzy8JdK8pRuqj6O47sYDqwiy32yo6Sy9tXs0jYQnVhyIDgKMtVTsAU9gQNwAAAAwQZ8NRRUsI/8AABdJpZWJABx6rhLB690xBGbQHj6ZxWErA3aEn1hycxs7gg5Nua15AAAAGAGfLHRH/wAAJMMXdVOH8caBpN+5rttqQQAAACEBny5qR/8AACS5ziVDZIfsr7ZPXPcDNuN9+5AoPNzdY90AAAAqQZszSahBbJlMCGf//p4QAABHTmDy+hTtAH6C9tExfZPfnCcSb+1HhiXtAAAAFUGfUUUVLCP/AAAXTEPPhCuTm8QRcAAAAA4Bn3B0R/8AAAMAAAMBqQAAABsBn3JqR/8AACS/BCvAcoqZ6ggAEiJolUI4hNwAAABHQZt3SahBbJlMCF///oywAABIAtPeAiS1v3W6320muwifuvZgz0FNl6rzDu6f8uPc5zdy8BFS3VNzUgh3Bcq5jOpq17FgkCAAAAAdQZ+VRRUsI/8AABdFKzdrWl64ooPCMLA53MeahwUAAAAyAZ+0dEf/AAAksKLN01IARIAvdHBddc2urw+5SgHyzv3DH/kXffcMPgdKAWfVTUZi7UgAAAAOAZ+2akf/AAADAAADAakAAAAqQZu7SahBbJlMCF///oywAABIAs+bvb8f8KI03GN30+FDOdW2KvyRIMuBAAAAKEGf2UUVLCP/AAAXRSs3a1pe3swAJ1hJh0TaZD+VSoQpYoI+BMWoWUAAAAAUAZ/4dEf/AAAkwxdoqaVT1RAIDFkAAAAXAZ/6akf/AAADAfDJUYblBsSiGtBJCggAAABLQZv9SahBbJlMFEwz//6eEAAAR05WeVNcAubEnwblbV47H2e6l17SCAc3cieUmGEi2WupXJpLKndDqJ6V2RmboYNzTgeJ/bfMRBKBAAAAGwGeHGpH/wAAJL8EK8MrO5vzlb17uAM0dNDakQAAAElBmgFJ4QpSZTAhn/6eEAAAR1E+vDgkAVEMkh1kXaYXDtxE+WRfabdOBrE6uELBrcLz0StYVE19Zc0r6akeyQ4OjlZdmgo8W/ywAAAAK0GeP0U0TCP/AAAXRVhj0AR18Rp9noWWs9n8ChYGzuLqHoQUBHuU5XAzWpAAAAAuAZ5edEf/AAAkwxdfMzlAAueq33twN7qOZ54r/Y8ir6bEjQ/bNYJRrnKT8Q9qQQAAABYBnkBqR/8AACTHK9VTjpsVnPYWtdeQAAAAREGaRUmoQWiZTAhn//6eEAAAR2jxRY/u9DeS5Mn2CoagKglLdnMhM46M7bwFbwBDZnf5tQl+pun80fMovNjVET9NKRCxAAAAKEGeY0URLCP/AAAXRSs3a1peuJf2CQAP3Jdo7lDJ+rJWVw8HxWAteqYAAAAVAZ6CdEf/AAAkwxdoqaVT1PvIKAbVAAAAMwGehGpH/wAAAwC++2jDcoOVznS8kemnZMQcZABOsN5q988SLzWYHGfMn1VfOfdRitZ2pQAAAFZBmolJqEFsmUwIX//+jLAAAEgplWBAJTRYKhQ7Cbrz3sGePoMoPyGr6v5Zl3daenxondvXYuocAdqPJeZnp8vBd19YSfQcS/4hLMdQub9oqw5/MmEFKQAAAD9BnqdFFSwj/wAAF1ifgCJBY3FTBL9AHOfzhR7qNHOuMqe8jG/XQJ6LoOe2xP38E2MHmAC7DZhBoOu8AEhPr3EAAAAfAZ7GdEf/AAAkwxd1j48rpBv8m8fq9QQZJpraQ/hjrwAAACYBnshqR/8AACTVIQAcWAZV+MhGpPxS6/ufwpJGqSUx0GxHY29o+AAAAEJBms1JqEFsmUwIX//+jLAAAEgUW0kUTgyUA5AB3aT1kFwKVelFP14vz/h7/vyo1Gg+ck9uy/rCLd+52sPL2Xy5+XcAAAAhQZ7rRRUsI/8AABc0+yJdHDfoy0/w8kWgEwqUJxsnVshYAAAAJAGfCnRH/wAAJK0uYAbq99wg36TpUWHM9LQr/w833nSb5wfzhAAAABoBnwxqR/8AACSxzAlvqW+yFW9I//fv1fWxZQAAAFtBmw9JqEFsmUwUTDP//p4QAABHTllWwBGa8viUjD82nArtMqQ17mfWgZ25k+jWKBaPguvj/jjvb2z9YSI9tHeJ76W6v6N/s6aSykC59p3Xwh6IA1KQz6H+QaE5AAAAHwGfLmpH/wAAJL8EK8hJlLnsIgfZA/2m6ZxKHXdNEgsAAABsQZszSeEKUmUwIZ/+nhAAAEeBjYzOQvz+HhOIAlvy30oSpNy6k+n+1H2bPhaKEEksZSivgdj9tK2KJ92qDTXe/WEjuffJCHVQbuLlq/dJd82x6N/+NbdfDhPr/4xFIn3r2+Z64vTDMRAMrRqcAAAAH0GfUUU0TCP/AAAXRSs3a1peuKKDwjCwOh7XPAHWfKgAAAAjAZ9wdEf/AAAkwxdoqaVTvRuh8UWp4JiYsdk0R2geGaREC90AAAATAZ9yakf/AAAkxyv/sej7PwoXcAAAADZBm3dJqEFomUwIX//+jLAAAEgUW1h3PyeoUA5HgukWSaxeEksJ35AYANI5yTutstlCDgCMJBAAAAAqQZ+VRREsI/8AABdLitCEuXG0I+gAnF42dGGBY+1B1XGRaCfSAAeSsmkXAAAAFAGftHRH/wAAJMM+DnjYT3ExhG3oAAAAJwGftmpH/wAAJL8cCDly8MG23V4AAJkz8Zrd0Oer/Sts5KHhQzSSLQAAADhBm7pJqEFsmUwIZ//+nhAAAEdFBe+64ZiAZmNZN5HlQdlqkkYOv3CKJsRXhniThR9PZaytlbIiuQAAAB9Bn9hFFSwj/wAAFvwQFn25hoXEIU2ulK0vAhjH1s4IAAAAJAGf+WpH/wAAJJpaZOpH0uR1rapciI+GqACZQzk+kiZZosDTBwAAAGBBm/5JqEFsmUwIZ//+nhAAAEdlURVQOQAEW8/yTAdMYNRLUKRf4AHkK5x/FeQp9ZGLZz8TRkihsWqORs5rVRoKw+m2Eywc87XZCbgUE4+Nwu4raHx5tANU4yLc4THAqCAAAAAeQZ4cRRUsI/8AABc3zMtzSbb7O2cJKlb6JFI4AHBBAAAAEQGeO3RH/wAAJLf/ROKlynD/AAAAGAGePWpH/wAAJLIrBSTkf8XJ1TtUnGMQcAAAAERBmiJJqEFsmUwIZ//+nhAAAEdUqU51jKgDA3/qbhK15O1X7V2nqwiB1wq19V4DzfN5c6NgsKDVbjs+R2YDgHq06OYZwAAAAC1BnkBFFSwj/wAAFzTx7kP9UW9yD+gGDFE9l87sJyJP12W/7GAACITqJBA8GpEAAAAcAZ5/dEf/AAAkrDxtpMYI5ouKAbwq7phyhYXtSAAAAB8BnmFqR/8AACSSo+c5VyDcciy8oqmXhD7dRGdWK8WpAAAAOEGaZkmoQWyZTAhf//6MsAAASEJ67BXAAg7hAYBF1E1g2qVN3mbu7Zrwgv7vmE9ZYulRJn2l1iF3AAAAGkGehEUVLCP/AAAXUFaSUAf1Ih0h56O/mIuBAAAAEgGeo3RH/wAAJKw8VDULl2nZcQAAABMBnqVqR/8AACSyJb7YNxfTggO7AAAALkGaqUmoQWyZTAhn//6eEAAAR39RWQ+fVldCZxAbVGa4iwEzKBbzFCOTFc6WNx8AAAAdQZ7HRRUsI/8AABdOdbVIDDvUt95QtS1ctgtTHnwAAAARAZ7oakf/AAAkvxvY9bL8P8AAAABKQZrtSahBbJlMCGf//p4QAABJRFoLlt3+qGgAbGNnoD4iNOPFOm1Nl/3k1GDDYLZirTGuXPaCN9SbicrHFbnx69KrVFPd5PK8/8MAAAA4QZ8LRRUsI/8AABfpgxao3VluYwABun8Lu+YAbg4OTxS2FdziHuvR+5ueK4OuXqrc05XAYIFHw7QAAAA2AZ8qdEf/AAAkmi3tTJAgA43YrRjBZZnk3tI9SYHKdmQzXEje26LBJ8e8BMX36BNp6i1T3AQIAAAAJwGfLGpH/wAAJb8EJxLQYZQeyDjsudhVjOE6UBS/uNXQ2ZpwpjZVAwAAADZBmzFJqEFsmUwIZ//+nhAAAEdUqU6vL7Df8vPetump80zsg4z5+2WfR8tbv/Ch4I7osC/O8qEAAAA1QZ9PRRUsI/8AABfmc5wqaoAiMzH+ZV0bphe4Q5IDQyRjN2NI6sp9DqIfxaH/+Af+joGyA6cAAAAzAZ9udEf/AAAlwwObaBnjyXv0BDsE/gAuc839683kL9xF5Ub1RRYyz6Ok6MxkARszqT8+AAAAEwGfcGpH/wAAJb8EK8Byi9RHXEAAAABzQZt1SahBbJlMCGf//p4QAABJVMIcCQBPhe++6Js8p8JbNKtrUa5uCb6jfpXba+2XlqN1sQxAZRM965vu8qG4YStdJTv/sLP5PZzTj4nBXDBFgRYvGaVYTr6ggsMTaNYvloi3E87m0zRixf7+pDN2stL5rQAAACxBn5NFFSwj/wAAF+Z4yixhJ0El5Vrq+qZPECADf+oMAw+0nQ7yUDujLIEbcAAAABoBn7J0R/8AACWr+Ft4Ep1oI4gRqCV5aL49IAAAAB8Bn7RqR/8AACW/BCvDKzucAmb+xhFMU0wq9jtlN+z5AAAAQEGbuUmoQWyZTAhn//6eEAAASVEJS7Ms77AAc+1N6s9xqZ7Vjzgppdws+sLaIx75Pp6xE1UjCdTP7nJAPhFGcV8AAAAeQZ/XRRUsI/8AABfgiCngzFCDbR4hFnajoR2bq/fNAAAAGgGf9nRH/wAAJcCZ3et9WSjc5T/lM9/Hl1EvAAAAFAGf+GpH/wAAJb71PhqkD4uS4A6YAAAATUGb/UmoQWyZTAhn//6eEAAASUUE9xxitrIdanCDGz0ABKmMpev26PDHY3E89mMfz/D1lxWdL2pEiMQAxXMccSf+aIERcmLjBZgir52nAAAAMUGeG0UVLCP/AAAX6x3XdtVAFaZb1jExFdSCFjuRl2tOG/9fsmDr8qe1cBl+qLJk91gAAAAqAZ46dEf/AAAlwxd3E/jzlyFHfbfABdQB75KxUSzbK+f9MX3h17e5vHaBAAAAGgGePGpH/wAAJb8EJxXCe2MeOvfn0Cuxd7xxAAAAUkGaIUmoQWyZTAhn//6eEAAASVET5wAEXbbEtJ+Vs7jUpJHzUw4177ckIRCMbfeCKjxyyhM6ch1+XiwhM84JHWG6NrRdsM3qG71w9h2a+bS4a5YAAAAwQZ5fRRUsI/8AABfpfTyQi9Hr/lQQM4jyfQIzjm+k6crKkM9gAbqDxF37jmEHMoLYAAAAGwGefnRH/wAAJKw9IsxzPWE1SZQwVh7aw6CyDQAAAB0BnmBqR/8AACW/BCcSyWmauFZTHyo7fi+tjQSQYAAAADhBmmVJqEFsmUwIZ//+nhAAAElRCU8FNkXNjNMYDA3sgFI5q9CADg7x2kmZj/2IKxuEC7WQb7j9+QAAAB1BnoNFFSwj/wAAF+u1o+iR2yPNXATig+87O+v0DgAAABIBnqJ0R/8AACXDF3VRUNEkwl8AAAAYAZ6kakf/AAAlrl7iewOPi1sriADSThl5AAAAREGaqUmoQWyZTAhf//6MsAAASimVC4BKX0ISPK9tecNLxT2zurEHoLdOjcx66rRZJL8trbMUDuBVZMe5pf18B60EeuX9AAAAJkGex0UVLCP/AAAX67Wj6JHbI81cBOJyJjMEkQZY0lXVuQH5Vuz5AAAAHQGe5nRH/wAAJcMXdWh0bzlzAtTRNkM8F1gnjbPgAAAALAGe6GpH/wAAJb8EJxLJk3AAW3V8CdqE3+a7Tju+hnEbLK/AOH6G2XPEwtnwAAAAO0Ga7UmoQWyZTAhf//6MsAAASjEsPz/02drRKzwADdfhYvL6gorniUF8gUk94XlKpWveRccw6SYzTV2hAAAAJEGfC0UVLCP/AAAXli/Cl4V/TwG9tUauJ3dt4fNaURwDeOodoAAAABEBnyp0R/8AACXDF2ipxaACpgAAAB8BnyxqR/8AACW/BCXaa/8hOtXufi3HuKJdzQcl847RAAAAUEGbMUmoQWyZTAhf//6MsAAAShRbVzCB8e0ok5CJ/0VKc5b86V100MYo4F5EVTduAF4qw/7iWDJxWzR2/pOJnhQ/xT2nr7RlV9iwGNJlLUvBAAAAJkGfT0UVLCP/AAAX4ms3a1FrCCngBEg4vJ96eaSQQvn4spKv9RLxAAAAFQGfbnRH/wAAJcMXaKmlVN+i2sYLiAAAACcBn3BqR/8AAAVlMA4blBri4+yFPCqK8o/Iec6FYB9ODMvCy4T82fAAAABpQZtySahBbJlMCGf//p4QAABJRQrSQA5RvC87e0Rjaf110Lb/tU3PBPr2/nDhx62fULQJBaex3GMcvUOykUIDCHGETJ+57HKgH64V0Z4DG3rqnwYUvwL9urOdg12fXX2dgIJlo79gkPbpAAAAQEGblknhClJlMCGf/p4QAABJRQXvng2ncJuD6ej+kA5gsQL5H3lyyFtVchU/e7xsNUaCyALiLTWP9oQbbBuM3vQAAAA3QZ+0RTRMI/8AABeaw0oiPnoAOLA2j+b327eKK+AtazvWHpoIDyIElQ/Sg68mupKc9LbV2kEkGAAAACgBn9N0R/8AACWFISg9VOCefpc6E0V1tkfz7nVUIAEjuCemoimJzyDBAAAAEwGf1WpH/wAAJcfG2L6qIcsruBAAAAA/QZvaSahBaJlMCGf//p4QAABJb48V6AY0B/tRT6l/HJUcZ9+SrPuIS7NIwBUiw0jWB/skkfq5MGE/lTQnLj1RAAAAJ0Gf+EURLCP/AAAX4IiP9ZMfbx0gygqolleCOZA64tkbYpVYVHgs+QAAABQBnhd0R/8AAAVkW3mSzwdG0uVD1gAAACEBnhlqR/8AACW/Gs573gm2YrFXx/aqOejcYt4h864+4gMAAABmQZoeSahBbJlMCGf//p4QAABJgY2qfUwVwA49ud56IiCBvtwW8G/OaTakVcCOOAPQdP03zKij8CpYVsA+vYJ4q5vTvWbMjgNRWK66vGWqJ4YLW6XllONvPJhz3n1GiHQmob9D5J2YAAAAIUGePEUVLCP/AAAX6Y5swthLC0qeNL3DyHetKr8dlyMs+QAAACoBnlt0R/8AAAMACvRBa3gDgAAHtbT96iq4VsYHEyL0ZoJRbOfL1xM8zPkAAAAcAZ5dakf/AAAlsisHEzjhqCcgv33DWMWGkdJZ8AAAADlBmkJJqEFsmUwIZ//+nhAAAElFBe9Xfevq+92UuIa0lLB4wQYpvgI0H7GYIAWquc/ASzxnuyVCbaAAAAAtQZ5gRRUsI/8AABfthOm/ltYY8AAmR6N/a60uHvdnkCvqq4RB6EOQJcosefz5AAAAGQGen3RH/wAAJT+hs/pbCwcr7ogfK9kQQ8AAAAAZAZ6Bakf/AAAlsjI76prjS7SKoE9Bx4YncQAAAFhBmoZJqEFsmUwIZ//+nhAAAEtRCVsYQ5EAM4yg9YVMQX/yZVmjwsJFznh2cS9AfTUHsrJ7PKZNM+YNT249opl9CajUWa9xBWFagttk1sdjGnqY1vHC9STAAAAAJ0GepEUVLCP/AAAYiYbf3FaeB7ZTyHBpNES9wclRSuNofBEowJY9wQAAABwBnsN0R/8AACWsNt+0PyaC58X7EMA6GmptK6ixAAAALwGexWpH/wAAJr8EJxLJe/LNDC5MDOWHHZV8AJ1hoeDgy8QxeAmpCWx+eBqZz2ypAAAAY0GaykmoQWyZTAhf//6MsAAATALT3gNM4skeJlxUwtswXK5xZYXANTOAPiAIm2XmW7wj2/nD0Nt8B8fpMalSy1QqbEheVobohXdYxuaCfTsJ0rNZsqtDNAuzyp1RdlWZql9Y4QAAADhBnuhFFSwj/wAAGImG4aWwkAEsMYNSb0UXZlPugggbemW/WlO2Qi/ubXjUXUSlxN15LdkiaEwcoAAAACABnwd0R/8AACWe7aRXa7szhpU9KazRnGY9UgikXIce4AAAACgBnwlqR/8AACbHK9VqHCqAEPUZOb2Fo7SUWLU/3U0aj6VFih3Jcz3pAAAAU0GbDUmoQWyZTAhn//6eEAAAS1SpbcARl2SUpD2OelNo+VnMPW4OLTek9EU3M+Q6wpKY4mrQhj5Gx3qOVcSeZ5KYW4a3ZrJMaicZ83HTw/GhvO2AAAAAPUGfK0UVLCP/AAAYgJ6NXTNSADiyjGeH70om9+6eBh/qogEmeu/q6aQxWWSWBnnUq4k4sBIPkex2pAPfPcIAAAAgAZ9Makf/AAAmvwUjWADieIqfwtre52Tljtn6SBc93oEAAABNQZtRSahBbJlMCGf//p4QAABLRQWgDOkAcm1XR+80BhUrcQwEdGF5PcfEruZG4jKVhGA2+6RpN6ox9MADotCA9/nhDdm+D+CryqNHluUAAAAwQZ9vRRUsI/8AABiLHd5S1YAHxt3uZPuAd6nj/AtvI6AG59hEekAA345D5O9YpgphAAAAHwGfjnRH/wAAJsMCMU9ZbJVXq8qEghhPL4ER6DwOz4AAAAAgAZ+Qakf/AAAmucF6Z7EkKEuqr5hOvMDRV+da460LuyoAAAAvQZuVSahBbJlMCGf//p4QAABLVKlB9ic5v1ws1WiGW5uuTnagKiwPUhXmHTiOMI0AAAAkQZ+zRRUsI/8AABiCfs2pdDNWxYvtZka3c1JUD2ezYXP737AgAAAAFgGf0nRH/wAAJsMXaKmlU9UQJlb/emAAAAAcAZ/Uakf/AAAlsjJF5RISl8Wwx2LQPmmsF5cHKQAAAEBBm9lJqEFsmUwIZ//+nhAAAEucXZ8OvOnr7D5MEF8FwAJd7qzmQWGuR/M/l3Nuj5dR0lmlKvbCAFTDmtoCDwySAAAAS0Gf90UVLCP/AAAYiMp3jQpbmBVSQx3rHcTXUysDDVRbB2duiA+OpUqDCljB1uPWgj8ZYN/H+u9zC8beMxswmgTaxHc74HHybvDAgQAAACcBnhZ0R/8AACar+Ft4Ep1oI/9EAFz+7fp+PkTbXzahrZQAB0SSLYEAAAAfAZ4Yakf/AAAmscwQRFLHRrvuiR4q2aWxVaGwpe26mAAAAEJBmh1JqEFsmUwIZ//+nhAAAEtoxn0r86Ba6SAAuvv+XXMRp9U/8lHAC32OP7D6RgX9dOmk0xXCTgKxppIloAkYnEkAAAA1QZ47RRUsI/8AABiIyn5SwswgBNMJJPFW/iZ5onbcjdh8lGXjeJF3J+7+SpBZZI92NtgxAPgAAAAfAZ5adEf/AAAmt/8OjmdWm6a8az5P6D6ODcMx8MupgQAAAB8BnlxqR/8AACa/Gg+FHV5JZ32Uy3Kp2H3w1hKJcjofAAAARUGaQUmoQWyZTAhn//6eEAAAS2SOGoAAOJ6VUA2vCUPVGAbkTI1tD376hTl8L7u3xStH3KG6XilCM3+0rTNo31mzBsaNIAAAADZBnn9FFSwj/wAAGIjSilKAEUX1RgQIHPb2Ltta+GtDFzNFV7yBQxThzAH4e2Jknx8P/f9M1RYAAAAdAZ6edEf/AAAmwxdoqaVT1PvCCY6wGC3X8Ntp1TEAAAAVAZ6Aakf/AAAmvwQrVHJQkK0vCvheAAAATUGahUmoQWyZTAhn//6eEAAAS56PN0UARcyA0vWxB0Vke78XQz0WjiuMhyqkTLMuszO7xXdZDE/YEZ14ohr3kZ4bFsKTMuubnkOSpR6BAAAANkGeo0UVLCP/AAAYgIiL3f3GWzqokoELXZbIRdwycgCrhM3I/SOQ0MjkFjQUPy2xKy3+Nd4HcAAAACQBnsJ0R/8AACbDO5jZLhjy2UzLtATw0d0lVWtVBImNZ6c1UWEAAAAqAZ7Eakf/AAAmxyv8NbNRACVNplBXVI1z+61JiSvNYDgkXTqJXs3JqHPhAAAASUGayUmoQWyZTAhn//6eEAAAS1EJd+VvJzNtACTas6L8jm+/kKprsgbOEoOtC0u1IPX3smemQEAYG0RJlTsHaRqZmANtHxw9vkEAAAA1QZ7nRRUsI/8AABh0ycz04AOMCk14pCPRpK/qsfX8BN1aaiBx4ymLHSNJSfmDKe2G9jsBBR8AAAAcAZ8GdEf/AAAmwz4OeNhPQqxbAZlmJNI6sl3HwAAAABQBnwhqR/8AACa/G9qphJA6bcTyPgAAAFVBmw1JqEFsmUwIZ//+nhAAAEtEWnOnhJAGscgacM5sav/TlB1Nn2ojHX4fW2/KD+UMFL1dY0LmGsXEwy76iTaP3dZE3ndfrpD4yRw+4NQsQCzDpNORAAAAKkGfK0UVLCP/AAAYc+1z1tVMMWv7fznDDEmGBu16pZrisQlHDWVibf7KgAAAAB8Bn0p0R/8AACbAmpbl5dpiOrnV9cXvMBCZeZb0LXCwAAAAGQGfTGpH/wAAJr8aznveCbZil7fQuL05dMEAAABTQZtRSahBbJlMCGf//p4QAABLRF3awAON68Lz8/+GAO23IhbrzKKOEZqW6T7wtsrhicM9X3o+T3OVbpaLz6vI6yqg/BjOR3szJRwtIFzE3tIz/pkAAAAiQZ9vRRUsI/8AABiIytHmQtDfZpZ2N86uTIHYsQjglQn7gQAAACQBn450R/8AACbDPg542E9ClMhBAGcD0b+/clI1OycuLj4v4uAAAAASAZ+Qakf/AAAmvxrOpx3TpEHAAAAAXEGblUmoQWyZTAhn//6eEAAATVENizdZHmAA57BXeURb6WtzaWbpCEbfuShzFsdbnjn4U2D6Z23BCkQOzU3f4zTcHnDF0zqfihg//hPltVL3HaD7nziGjyTCZM2BAAAANUGfs0UVLCP/AAAZKYbf3FaeBtemCo4rErXrpSN7PsVj0Cx97JjID3IzjxlB56ypBPJxNTqDAAAAHQGf0nRH/wAAJsM7n6rlnFEWsHGiXGiiuG1ORRO6AAAAKQGf1GpH/wAAJ9LXe9hFXkAEZF6f90TyWPnhUIhocJhCHiOF0pFh2ruBAAAAZEGb2UmoQWyZTAhn//6eEAAATUUINAE+U1/xVwoGItUQIfrML1sH+bEXWbYCiCeft+hZ4T4mRTnVF6Vrs/oe+rX5wmbqiWLfltriQQH9tRFFgttGYIVmye8ZXTRJiZtOS3nV+EQAAAA6QZ/3RRUsI/8AABkmeNWnmPEYJLyqvWoAAXFKf4haUDEJsv9csppT8Z0wuhHUdJ7d5Z9b0tYlqtBbgQAAABkBnhZ0R/8AACfeX2ippVPU+8g3aFaZ5mfBAAAAHwGeGGpH/wAAJ9mEuse0/HPTobhqNTh+4MMabQU1QYAAAABOQZodSahBbJlMCGf//p4QAABNUQlPPk0Aco3hecCclKdkIgdrVgvCblEOAVBpJv5doB3v9AvKSet34oJ8enPIjsrIp03PqcyFTLRuHI8hAAAAI0GeO0UVLCP/AAAZIIe3DbkcL+XQ17GS7lJ3SSb+YJVRE5u4AAAALQGeWnRH/wAAJ8KC9xnb+OtyPgsgS7FVqsWAe8kVc4WVi50AEjLi11LQ+A/toQAAACABnlxqR/8AACfJgHDcoNT730M6GKQ/I/NvFltbpLMxcQAAAEVBmkFJqEFsmUwIZ//+nhAAAE1EXC5AHMPqdMyxD9N1em+zZNd1DcGMLuMl1HG7qJtSRGboCasoL9KHVU/9C4G8a5rQSCEAAAA0QZ5/RRUsI/8AABkoyneNCkjTB/ftDSgvUAJphJh0UtPJtGf+U4UnQldlshN5kZCD/rcbdwAAABgBnp50R/8AACfeX2ippVPU+8gwIBeoHekAAAAuAZ6Aakf/AAAn2Y7Q3iEyL/11C68OcTGzPPIAQFTo1bxxq45BCOJKY33VmyBu4AAAAEBBmoVJqEFsmUwIZ//+nhAAAE1Uj+Yx/kC30ztzlvfWVGJMYniYJrPAAcFLOJsPKYiLZC7KQFKio2SH4kT7IZyBAAAAOUGeo0UVLCP/AAAZKYUjwWyLk8OkgSDZk/NVCALf2VPTM3KEo3U/Lh573DgATjX9RKedE6ZyZv6qDAAAAB8BnsJ0R/8AACfQt8PT5RBLwi2lKLQGtGaPnrwrj9qhAAAAGwGexGpH/wAAJ8mAcNyg1xcemWcfrqqoPneacQAAAERBmslJqEFsmUwIZ//+nhAAAE1QypcCmyLmxmmMBghmIF68Y0AoXT3FsZxbgukoKKb/TuOUZ4MwnaZcinLLGyIl3CZFgQAAADxBnudFFSwj/wAAGSjKlGSNYx86IFU3NnFDKmkLGo1aDuE3snQj+KtTV9j92t+N0dTVu8HuKf/jvBIdYsEAAAAuAZ8GdEf/AAAnwpNNhCnLhGCgBa6wxqnXjnRpw304nzqJXIVd/ACyYY/i/XmGnAAAAC0BnwhqR/8AACdA8WybsvT2+IAFxP65fuPWbctX/L/biQjRRP1LsSsSJL8QViwAAABpQZsNSahBbJlMCGf//p4QAABNVJe1zEgoTVW2E8PBDb6npktH1uUqwMoNOsvrFZoB54wFjYFhjkdi4VUXcUnxsFJrOX+nJ4Sn+54lDt3PvkmS72lAa0MfgnVzBHxrsTzf/XYNensABXDBAAAAPEGfK0UVLCP/AAAZIIfOqEIqAFi7qfwG1P0ch85M5q+zYk84j0LEnmNhjUQVttDylzoC4HGp9qrm+tPYsAAAABoBn0p0R/8AACfAWDUDPjEOFZ5inKl+w2KDgAAAACkBn0xqR/8AACfZpq2NZYYlQiGmaJjdfpACZM9/tklYMDlOdrHdLbl7VQAAAEdBm1FJqEFsmUwIZ//+nhAAAE1EXC5AFapcK8AAU2EiniiP7IPVdPvdaWffT6MeBO4/FKn+pbqjX0fQTu42G+g8pBk8Yg0gJQAAAClBn29FFSwj/wAAGSup4U+4XUimTAcFhzfV8aUWLOBpwACIFT5QgxcdYQAAAB8Bn450R/8AACfeiBBhsUgL+mxuLlnPVAAE07LZfLNOAAAAHQGfkGpH/wAAJ+NmqGyDmFpMuXu6b1SfhCf6ZrFgAAAATkGblUmoQWyZTAhn//6eEAAATVSP7frCT4Uym6ACBowmRXm3tfMfeWF89NlToOoNh+TnigNa8dAbrw0PPkKvx90OLvNLHauJETRkC0Lz2wAAACRBn7NFFSwj/wAAGSCIi981BCvnR6MkePsjLk96mqyM+apP24AAAAAoAZ/SdEf/AAAn3oOfquWcYlwAJHVs9bXexS0SHonVVYfJNL/3wJvtwAAAACgBn9RqR/8AACfJ8wcTOHkbsABbfu36f04n4mf7GtXZWCf735keV96BAAAAPkGb2UmoQWyZTAhn//6eEAAATURac6d546WIgBBHj3pxlcliAQ7mBYmWkenulwR7GT6GazwjSa5829HmJmkwAAAAO0Gf90UVLCP/AAAZD+eigTVqAAtEklWJvhfOG9CubJF6qKl1UUEnV4PVhnBrtRF8+o7ikPn64sJxr8eBAAAAKAGeFnRH/wAAJ9tX/MW2ZAiwASOFvfU1rmi19IbHXSodAQmAmkdcI4UAAAAnAZ4Yakf/AAAne3rX8axClT8AaX1ryclyWetkd+gAmWaqI08PNCrOAAABsmWIggAO//73Tr8Cm0WXagOSVwr2yqQmWblSawHypgAAAwAAAwAAAwLa9HiTO+TU8TYAAAMBBwAoYVMRISAUsbwqBOS++B1nkJpvrgMZUKn2+74MprfCAuPxva62+yceySmsyMVU28OQAABYaziSaGC5BV5El7bKeMBkCN2Xz5HYstO49PSRyU/qK6J1cBMPIzdQ8q5uPtOywLj9ZnBbVLDj6ArfykydK+ZrVVVwaGREZS5aQfFAkKkgf4g8ECTcuSJHObpjf5moAvOENbI5+7yzeaf5LueMOsthMe9jn0xdCpvmGOY9IrPghF6HaR+eqw1DH3PNc79pZZ9jNOmPLpAxFb3OxZCHmyuEm0/2Q2wNdBW6YAQrg3pTmZ3Uuy+MYO/8xb76RNbpq+UZNTTl6WMZOIC7R6LYabJ8wiSgpvaf6IjJPxaaewqmRLATuteGLHkr9GcrLx6+5zO+MKWFK5dOdKYwd17zsPajbZmRXEjWcyL4vTUQvIvbxQA0r5Chj9H/7w3xm5HBTBL9u/uK1Pp/4NsjqA1bI873iltq4jEOVREIDMpjgbgU4AAAAwAAAwFbAAAAb0GaJGxDP/6eEAAAT3Wl0cA+UIQuRxaZUKPe9LkrVJIYAFlR09xINf3K1kvVHRbSMbXqhiebtuhR3T3FxTjQSeNO5PQJF+UCS31hlpFT//e3mIy+s9cBh2eaR6bLShpdLbmVFUZcZx9eRw+vxi/opAAAAB9BnkJ4j/8AACjlU9M8eoZUhOZAZScgzxcObagSRGmBAAAALQGeYXRH/wAAKOKTTYQpy8ikCBGeuTwijawAEHewMj4xn6ldE7OQFQ4fdB6AwQAAABsBnmNqR/8AACjpgHDcoNcXHplnH66qqD53mfAAAABEQZpoSahBaJlMCGf//p4QAABPmRlTDehGukv4cAJD984oDcrIAJa606HQm7w3sJ4oHiBxouPT/iD+VP3JKt4wSWv+kd4AAAA1QZ6GRREsI/8AABnAh7iVsJABxhUlQHtC82FT/dwGnSCBxs8MFbEPqAEohGBprJDFNoPMAqsAAAA0AZ6ldEf/AAAo6AFYn0ADiwnp89VxzHhw/OXURH51rGN7SaHszhsD80tX2CLt6kFG8oxPcAAAACcBnqdqR/8AACjpgHDcoNfqcAEtRs65Kg0lm2WKJdIrQNzKuURuFfEAAAA6QZqsSahBbJlMCGf//p4QAABPbAU/vTBv9oLk/SGbFEbWk1p1Tfu2DbTfVxQ7SbLt+MDxULuXHpn6wAAAADRBnspFFSwj/wAAGcCHtw25HDEkAF1FOi5WMhk3qM50mUHITgwn4u/yH8i8ysXN5Y9f2HsDAAAAMwGe6XRH/wAAKOKWCSAERFB9ZH5xXre188zhgBI9ZjP1vnn9hM9urJ2gdN3P/6fggup2PQAAACMBnutqR/8AACfKBK9UcF586DPvz+PkPUOV5fWsfC1OULHHgQAAAEBBmvBJqEFsmUwIZ//+nhAAAE9sBT+9MG/2guT9LA0KACU5nK8PfcT2jBv+TJ468k7s9pcVTOOyUFAOssM+gNM1AAAAJkGfDkUVLCP/AAAZwIdILXmng1WAKHNUt+qIt86+a01k9/FzqQ7oAAAANgGfLXRH/wAAKQTFGIAODOTh0xztoSD9Y57XeVAHplsf/pXBdg6UohH0ISc67c8FWbRQg3RgQAAAACUBny9qR/8AACjpgHDc4nAAAsWfAnfyKIVM9IJgS/sZic76ktLZAAAAVUGbNEmoQWyZTAhn//6eEAAAT2wF34gnQYX08LsONRiGv+Mam4rxk0uHCOb2k2AC7MemroPd+WazkHRdCm6WnPHLkUgwDdW7ebJ+/7dpA7KYO/iZJKsAAAAvQZ9SRRUsI/8AABnAh7cNuRwv5dDXyLAQAmrWNAG1QCgcOqD9eSW+CNkqJ/dG4EAAAAAyAZ9xdEf/AAAoYO85lTcwAJULELm6lMq/yDIvR7jegD5JPtjnPByCsc5NQ5tj2xneuBEAAAAlAZ9zakf/AAAoWxKtdrnWufUMAjX2OrXzzyd9xd30Pdis4S4Z8QAAAFhBm3hJqEFsmUwIZ//+nhAAAE9sBekTYeOiYklADNO4xgEDXni6coIX9vyXyX5gVFD3iInR/Uir1yjIAdNsY1lBmymqzVZO9kNYu0z1DdWyNcoLAM4QVcFxAAAANEGflkUVLCP/AAAZwIiL3yrwjLpNHgDjomO5UtrwANhu6xRMRgwya3phUXWP2i+h6gMyx4AAAAAfAZ+1dEf/AAAo/oYOeNhPQpTIQPwl54zgyt9FGixwgAAAACABn7dqR/8AACj5pq2NZYFEMJOHgqlyXSo0RBG/BsiwIQAAAEBBm7xJqEFsmUwIZ//+nhAAAE9sBekTYeOiYklADNQ3xZgAsbAfWL+rCo2J8wqXEatJuD2Mvfw9mnyvTl4AqvjAAAAAJkGf2kUVLCP/AAAZwIiL3ysFFAn/IVhklHKAu4IqGOE5kAVptmBAAAAAMgGf+XRH/wAAKNV5DiOABa48MkVLSEecuks89iKz8nK8kadfQ7tufpQFEmjAYBeqRKmBAAAAJAGf+2pH/wAAKOnzBSjFoAFt1W/puV3Gc+fJfAfMZhD+oKRd0AAAAE5Bm+BJqEFsmUwIZ//+nhAAAE9sBekTYeOiYklJWiiuE3rDqboiMKABJNcpEJR/Ttc2OffD1TCuI5i6f39ZNBUzjx7IaPO4G5wpbzABVQkAAAAwQZ4eRRUsI/8AABnAiI93D8giG2yGeB0oOQ7wATqnXSwQJwuqdVo/VECGYdaeGWZRAAAALAGePXRH/wAAKOLbzAMEOABc/u3yInTP3U/pxwoo6/I/w2bFHWEWfkQW0XKAAAAAKwGeP2pH/wAAKOnzBSdCoAWQjcIoDeF/GE8MEDxiwe5uimd/MqpkOaF1MoEAAABdQZokSahBbJlMCGf//p4QAABRrAU/vTBvbjmgqFIBoGA5D3LZOMyZgg8HHCtY2US+vNwBSWERGOyOC37Z2YEfjdShG/q7KlX5q0/XZYuO8uI6jxdJKXRPiiW34GpJAAAAM0GeQkUVLCP/AAAaYIf7cWCut31vOxwgRvNM10TMpsAHKWJSAjMBPTsYcAwhAQXtcPiilwAAACwBnmF0R/8AACoC28M1Dw90cIDSHFoAWLPnZq+I3oxwC4vA+jLp1N2UgRBw4QAAACEBnmNqR/8AACoJMD5bNvf52SZuyZWNAmKLdmbXvfBEthwAAABEQZpoSahBbJlMCGf//p4QAABRwVaE0ADZHG8ZEgDjLULSkbqJwC8KR6j+rei/E/0piwWtUWk5E2pNayZ2HfDo+lZxRicAAAAkQZ6GRRUsI/8AABpoyqdTd45NILpANePBdk1jCifS8IZIXGqBAAAALQGepXRH/wAAKgKTTYQpy8ikCBHLFA4ADjcu3qVYaARzFsCUwnpOZu1j3uGmXAAAACMBnqdqR/8AACoXqUepACJRx+OiAYAImVL8IJC9KVlyONSVdwAAAFFBmqxJqEFsmUwIZ//+nhAAAFG7rvxACa6qujYD4RQkFhGi6J1R4a1YPnFHZf+Vfsff8V4T40cttQZerkfrByiKSfnwPOAzvpTNZjO3JmkGQcAAAAA1QZ7KRRUsI/8AABpgh7cNuRyuQ5oAS0zrxC0o6WuPxKt3DMjbSUxV2A4Y3Duri0TsQVeCTcEAAAAcAZ7pdEf/AAAqAFmhpHTnM0FaC1cAqANP80W7FwAAAB8BnutqR/8AACj5rl8cDG9ajlHxADGFRoAxtH2KlFTBAAAAX0Ga8EmoQWyZTAhn//6eEAAAUdS84N4AGidkjuPjQ8e0LtnkJM3QWtsRCEf5A2U0b1j6LKeqD12VBOKONZzDvy6VowCeZuARWjVi3FTWG2BGzNIpJcTxYk4HFXUFGshxAAAANUGfDkUVLCP/AAAaYIe3DbkcL+XRIigBLSbSv35FI8jyHTWETHN0cKBKe0XXBGvfblsv6FC2AAAAIgGfLXRH/wAAKgBY94PnxDFYTqkNDbrdc8o87ZYysPavj5gAAAAiAZ8vakf/AAAqGYSz3ElpmrhWXls9ztzRv0unpNJpg0kwtwAAAFJBmzRJqEFsmUwIZ//+nhAAAFGsBd+VvJ02U8L5ieaSSlpt7tDg9H7se6BS9Gz1hP1Xyaw8qMAM4RdKPAOUu5TLiVx1Q0xPDh9ms/5GjaWnCaRwAAAAK0GfUkUVLCP/AAAaYIfOqDfbzAusAYABun5DMrombg8Uo351t9yXm5S+szcAAAAhAZ9xdEf/AAAqHl9oqaVT1PvCCY6xUZrOcQVOPCIl7MrbAAAAIQGfc2pH/wAAKgnzBSTkf8NnjT/P9EAJePimWEQuWT4sHQAAAGlBm3hJqEFsmUwIZ//+nhAAAFGrDPJQBHvXgr6vCkKoiHe0pmYTIrzoLWCOVo9uF+s8qx9I7KKFU3iRxOaLs8sGZjLCCWupLTEUv4EMgZok2l1L299iw1koI1NKnvwMgZ2udjSdTop3e8kAAAAvQZ+WRRUsI/8AABpgiHLcnSct1cAAnacNXAlCdJ5GfI/8W/ZCvjFDXVAGAbt9HLgAAAAjAZ+1dEf/AAAqEHcjB25M+nJoALeAPfJ2x1OLeEssiZC92ygAAAAiAZ+3akf/AAAqBVX0KBchVptrtVA8bhpVS5J2EuAFb/p67wAAAGxBm7xJqEFsmUwIZ//+nhAAAFGsBekTbJAB8xSpcfDENmSTKvIqYVeSNwlF6awGwcfX953wtTKPPrNwmGjJV15J/9df5DsfB+Y6kbfxJyjotu1DODcXPQftFhpx0LoTu2SbcYlOVOoBD1Y0ooAAAABTQZ/aRRUsI/8AABpgiIvjSABo+1S0H5crNJLs8bTAJ7iYy+ZOmQHKqiIQ0gv29EpRN0Gnu5l78xpY/kTORXRRcyRTBBHGHUzTaAWkAJ0jGZpoSUkAAAAxAZ/5dEf/AAAqHoYMG2l+LcRJDQt5CpYALnPN+nG6Tssim2prH7MOjz/8WBfDPCFdwQAAAC0Bn/tqR/8AACoJ7b7YP16IMYN/2ZCoXwAkUI+YgX2zekBX+LKrd/nUGAIX71IAAABbQZvgSahBbJlMCF///oywAABUqZDhSun++gHl5oAW6qnu83T4g/hZovXudJw9/jzYMmMNzzIBnrknaQjSjf8bpqbpzV6/ZEXU7Vxn0a5IGnUSIp6aZA1NlPx7gQAAAFdBnh5FFSwj/wAAGwCH+QtvqNIQAHG6kmn+Jdv1dP2pjPZC46TnuEBTgJaU5MVDpFgn+DpFab/HiVxFQa6jzaM+h/ENoJW/J587A5ApHnG5c0kXzd7d1tEAAAA0AZ49dEf/AAArO1cmKFbK9um3db2QkrkP3MwjVaAEpnVPgrUpJsaDZosO7S+DJZYvezFGCAAAAD4Bnj9qR/8AACs5hLHfn0FOrNhP3FwAWhWn9p+H7efRwlGggf0Ic7Jvl9SV40OZoq2Hm3UJNqripTRgQePlbQAAADRBmiNJqEFsmUwIZ//+nhAAAFPsBT+9MHAAprcWUF7bPT4UNRKZ8yFAWr6/63Y2TCYAQxA4AAAASUGeQUUVLCP/AAAbAIe3Dg91arB4qK8FHFrwAlRTqiG15wPNUBEJ9EcmD/n8tuGTIWjP9mensP//1hoxJCXNh3L4SuN4Wuc+b+EAAAA7AZ5iakf/AAArOYSx359BTsI/1iWCABdRK1ytQsMcdXamBmhaLaPykMJ7cDfNG9rHFL5dbOUn07Epxj0AAABoQZpnSahBbJlMCGf//p4QAABUGNsSOATX14XnUEH1bRuRBD138X5w4gmYrcEy5FkEz1Ehu0zEO9euceTxLyRmZj9gMPLNs+CFVt2fVANUT1Wm4fka5JidTW39iqPcdYj2C4xfR7dT6IAAAAA6QZ6FRRUsI/8AABr/7EXJRMOdB0WTiN+g2gty3FcO4SsXoAPfjUT98do+NorZlHR7LSr/76/9vtlX+AAAAD4BnqR0R/8AACsipbPR8l+ACRwt+4zad+HClpw2e2mD82lfZ3KtdjQ7pzqHTtId9U5eW3P/HrHg1iqsLdJtQQAAAD8BnqZqR/8AACs3qObUj3iWkbsAFoy3zEC+b1E/yP39G71nZxcOyDqvf6SXb2wbnkRqhxuTc7E5oq4kUgArybUAAABpQZqrSahBbJlMCGf//p4QAABT6wudQBFzGU3YdLryOU3SNXkWAoJqI6Daeu3gCbFs96+L3rsnSKL5sDSsaZN6WT9LNufumy+gy9fW53sv64vFptRoAPV9UIiml1dH/iUFdHJBvz+4a/JBAAAAR0GeyUUVLCP/AAAbCJtmBG2eDXAWwKDsaAK8YiS1+3TAAJmoFzoaU35fwtvbyHRJ5UmqDvuHLJ5sdNZ4ugLVTpwUyuHlz/YEAAAALgGe6HRH/wAAKztXJiWt27lhZ4oF8nWJWt+ihMEPhTCN7Z6VILLeFUn+uhVoAcMAAAA3AZ7qakf/AAArUxwALYVArrTU9tRcDJ+oZ/OxMJ8sSsokhQi5/Tfhalklah9W3KPc7NqFj3Ue2wAAAIhBmu9JqEFsmUwIX//+jLAAAFd5lx5n2zQBWqLhLUA0dQogtt3aMF0lEWdMrV7+dz+5PK0N22zpxEyjdD/zddBQWDVj93KfaZHS5VG1hgLUvI0zTuDz76jM4alfDAT9OhFYmFgU9F515zscMr951JfyuRfrzM4f3DCbEP5yWhz4zyFIY+VnQWQNAAAAYUGfDUUVLCP/AAAbCJuEywm6Yy2u0j/oK8V8taqSyH3prKuLTenlQ1cQsNsXuSUAyMRlNoelcjmQ8LGpqu8hBRGQBVkV0IO8MkJIWSvW/anPO+jNWDAdVUCwH5aAr5/uKYEAAAA+AZ8sdEf/AAArO1gKIlc5BhXqCAk2ylB85XAlP4Ck1yx4NGoR6IFFEXDfQAljP/rkB0HUrZXAFb1AMkpA7aAAAABFAZ8uakf/AAArJVXtBw7hi6iu07sAvdROyEN1HwsE8qyT5p1ki22O3+bAAnboVTqn1XU6LiPNsR0oUWbk0zmy7VGaQM7aAAAAjEGbM0moQWyZTAhf//6MsAAAVunw4erqHGBPayhztQ2nfMu1p01t8QBIA3m+IpEsJ/EWzpWiEQa58LKrFZiFBTwJpBkriGrn0ik4b2cl1RggxmS7V607n/q4Mh//KEu2Y3jr0XGQuBAs1ItV0CEKLOheP7epSWCVMoP13yPtmNITcOdU89QaVOzvD+xBAAAASEGfUUUVLCP/AAAbn+weoyw4EkvFFEgwge6V9kOuHERSsxARJRCXqZZ7OvW3YelgPP/z4O330pUV5XnCIAPYzI7Lr6Io3+MUHAAAAEMBn3B0R/8AACxeWeb1fV+Ug4SpYXCRcFa2BSaUWeSkEEeLSR1tP3S0eDc1yWudG+05in+cgBXk5tSaDVe6gDHwCZ7MAAAAPQGfcmpH/wAALEVSw9IY/SrhLaoSTzjYq0pIIQ6PZwIl2KhJIQREf5u7J1Ful7r1hwATiay4M0Bvrq+fQz8AAABjQZt3SahBbJlMCF///oywAABW6fESaoLZt3FHym3WDbxBSU7KiB1JL+j+c1HA81JxdHvrPaSr3PTZgenmWQB5wtuARr3KY2ftu/46BDQrfplqzFZviz4NteckDiAwZNYIvdHZAAAAMEGflUUVLCP/AAAbn+votENoBfn1eFzoEvNr+Tl1sLzpQFjsD6ajJLz7VPVrjx0pgQAAAEUBn7R0R/8AACxbpPKBIARLqU7/IIgHpRCcWlNoICQEMLakGkV8xLl/snifjo8NnC9/ttkP/sCH2WXSfe5kxukY+esM6UwAAAA/AZ+2akf/AAAsU+PNqSAETEXq6UX0O6rCpjJXePMQWqwbd5pcNpbvbHIYkfRGFUhNg2j1t/1S1TY0vLOl3F+AAAAAZkGbuUmoQWyZTBRML//+jLAAAFbqygU9JuRhutiit9XwAWAfGYNIwBsTGgJIsSguIzA7L53T54DiMtcwf4ZY8awTPWTAgDr8ag94uUg3xm9x3blgPVr4+HUjiK/zSMqzwo+b1rh34QAAADUBn9hqR/8AACxFU9M9RshriF2vRFUOHAIySFqgb102sHQRP+4zrYXxSvCOJOkmFc0wcNuL8AAAAFpBm9tJ4QpSZTBSwz/+nhAAAFYsBd+IJ0Ddtl183Ezi1wA2wfX9zKacUMuYz2TW2BMiZGuGFp72PujU4WWiSj6KkjbWgLIaXye24++ToEBnXdjy/sCAeP57Y4AAAAA9AZ/6akf/AAAsRVQQHmTubPGMoZ5v1oiZYSGxBCiFvl9A4fl3i22UADVEbPWeDb5ibNdqFsbGp/vEpk/ZQQAAAFtBm/9J4Q6JlMCGf/6eEAAAVit4rOj7xgeiB2+zQoXqR/lEi5sJy2/u+/ptz1jvwbph7peX0oJPtVGvjI39UwBSU/6M6nDg2Slc5qCjkAAvjaS0siy1N/B/WGOgAAAAQUGeHUUVPCP/AAAbn+6rwBEb2p1z0KpW7piesdZHCfkoet1VV8SEi3CZHQqln9psyqTRoB54ooa07S3j0BGz/rzBAAAANwGePHRH/wAALFtX+13l/liZrUPP3GgL+O26qnL+D3oXMr06FEkCP9V4XwAS9SIfXpDHGqXda80AAAA3AZ4+akf/AAAsV6mhWuSEIMWaxge5LNNsrX/Lx+c8y7E9QJfBFneAEBVDjAaR78UbxsPcKFzWUAAAAGpBmiNJqEFomUwIX//+jLAAAFkqMjzSALPjWUtQcTXU/9C4vQTLPwadyMoSXr05TTtQBgF3xTA7frxrc3G0Vx9yAmX95ggmx2brUjHejpaCo97De3SURxS1gXMBTvXHO0jtMQmWxQkARHThAAAASUGeQUURLCP/AAAcTEWSCwaL8taq1UDE1u4oOm3kMAELAXrEkQkmCL3k1d4VrgdXcke5wAcEv3LQtDnlQOhvtJ/JVtG0wXcp3VAAAABJAZ5gdEf/AAAtesYogB0PHOVSWIjB8Wq1kFkMujGXX7k2+OUCcfoC0k5RdGb1Hl1/EujQkSYb0v4K8e1eW37HMxhdDsN2ZsItwQAAAFABnmJqR/8AAC1kGfGJdABGOaFwCZynmO0D9aswvp7xnYM3VPVNhbW8lQjSIT05E43RBB7SNdLBHdXN5Y2hTeUWO0BKaTcU98VaEvM8gjGt6QAAAGNBmmdJqEFsmUwIX//+jLAAAFlCwbooN/rgOA5WNZz/BI0JFmYGumFrfhrL2qOKB+p95AHmS3h5wAqM48La8ii+AcnToYWYEwmWWVKOwYJ7Nt/93ytfE1n+NyXQhYECR5qlgpUAAAA2QZ6FRRUsI/8AABxXL2n6B1QBxukOyaWIeSiBR/ohrvO5a19vBYDWksvfPIQwkcEViYnFaurYAAAATQGepHRH/wAALXtXJiXBJSi/cul2/eSlDgZ6FYZ5miZcZf2n0drv9JfK/DrTAfABNLmqrnKb1bWf6up3wa97UgY5Niz2ZKWQVWi6+bpBAAAAQAGepmpH/wAALU6wPvsh0733Yz2xsVGaX8eFHqzfAiOMoOorPk2Djg/uoxNAAiC3QzvbhS4ovXJbeZ7vflO710gAAABlQZqrSahBbJlMCF///oywAABbgsJZr7SIHe8jqhuGBwh7Ek6OUx3/rwoFyTiG2mRUn765Mx6AIglL+3WxXeSxABFYp9uTP5cKiTRjhHfQZ0m0Hf2Ya+SQGoCWD6Ua+dcDxvsf5YEAAAA7QZ7JRRUsI/8AAB0IceOWD8xp1eBGmFiAWnG4L9n8x/gACIZTUXinfzvy6I+mVdxwmBZRGoLWZjq1DdIAAABMAZ7odEf/AAAtcEQkGaPqbjJSWHALmOXygKAjJACzMe60bN6qwvu26q3HvJcoQsf8G7Ir7chSma6YIXrP6u64ipQ2657hIaZf8W0uoQAAAEkBnupqR/8AAC6ZbPuWEdvpgZO5Zj7PUcMip5lx879fH1361KEDDN+J1BChGUp5gBB2jAAXSzXKclDV4jbFaIWgNBEm4IU2h6thAAAAYkGa7EmoQWyZTAhf//6MsAAAW2rJ94NoAL/ChKoQXQOfSO/tnO0zifruAvQZhuONXAAt4abJilcTckFuxLg7KXtKeA6vbKH3uHiPKVWQKCU22AViDaRi4No6pM2f16Uyze+xAAAAZEGbEEnhClJlMCF//oywAABbakpW02uPWqVS23zUgBXWdqxgJvs67wrBceZbvGd9UEDc9e+5CETGFWQ5ONRTNLylv/JQSgVrZplXZrQCxuagxLSg7GJeYYmZuXPGxDxAY59P6ycAAABFQZ8uRTRMI/8AABz8fco4OOxfesrL5S/vNW3WCrf+DuxtFEBUlz8XwIAbD9nM4l/KoqmdCj2vZYfbk0Xo+DDtaUAEYFrwAAAAQgGfTXRH/wAALptXJigX8nwKJiwDk6roeZiggReSudsy8GVVm7QAmPQokr3Q6aP6voGF9pdSBHSGU/nWnkZvlYNywAAAAEQBn09qR/8AAC6EGTJw3zxinMj9MQMB+PWjTOdFfGMTL6nzOgAmPQoIvZgz3JExiHn0D4J67g3uDIAiuSHUkilNCyU1TQAAAHtBm1RJqEFomUwIX//+jLAAAF2qYjiprpHFZOjIGYb03Aqkjvk/amC5AdWpWF3neaIAbG0m6PKgjORRYLZ/35v9JEq/5QtKJnczjROA1HMF8ZPmQW6TV4AT5J9MyKRslkn+O1eGeX6+E4sMp2v8f/1baF8amXJ+ORLqfY4AAABDQZ9yRREsI/8AAB24cf12EghcCR/ttqyEfJta4fF176lguWuNCGU15soJ0XydDSe2+busAAlkbQlOzGeQ5XSgtIMNwAAAADcBn5F0R/8AAC6angS8greyM7iJJfJd9PPchHMuG6JVkFmSGbZrhT9corX1JKk+rfvDEgwd/amBAAAAPgGfk2pH/wAAL7jdREB1OpB13ySGqbAxX8VfJ07JZ3PAxC2av6fVCPczHFvWIXRQAWolZK+7JfxohWt4f2phAAAAZEGblkmoQWyZTBRML//+jLAAAF2p8RJqgtANUI63wit7g2LXFE7FRr3dMCasfZwcpB5AUAGz2jnp+vhdKRMn9og84pqpWojU/Hwb3Y7Nf1z2s2jAxhgHP8Ylv3+YtN/W5bA2k/8AAABFAZ+1akf/AAAvuNzH6RxIb/v3GlspLPE4zWKYxi8fKKzTMUfSwmZAi0sUby4SzkTwIj4ATALOkmcY7CCBGFzTU7NnyzFwAAAAd0GbuEnhClJlMFLC//6MsAAAXanxW02uXIzO+kc9QA4f8/OC1dRAufwoo4KYz5slDsZrmSJqQpErLzQux8lVAF9hNysphpTtaVvU6OsxBUfH0bxDoNaS8iB2uQ9pm5z0ZoeUxPDilg1v1DXVOfql/kw94ITjO693AAAATgGf12pH/wAAL8+oQy7GwIE4M2zvoe0cvTKvswotpEihFjgHDvTJL4z1lU4dvbbqRTQAJ1hocDWEj10k5oJoH9H/r6/eoeygYmhTO8E6twAAAIdBm9xJ4Q6JlMCF//6MsAAAYCkG0vcAVh5MmkqsR3t7R+rVti1Lblfi1Sv2Cd/j4XKAVU0qb/fW9cYMXRgeCFFyhXb8FjlqfqnPDn3mEYEwFk3F+8MVVaAy9HIwj8WJZrwTWPso1fq1fpsQw3h+M9gBv+oNt3lPUOGDO9VwZhNqflod3FkedrgAAABCQZ/6RRU8I/8AAB5ocgi9g+5s0h3VXepxVh1N1bPLvsNPZzAX3ZPmKHC3J7g5kEyFgI8ucESAJnjibVlcKYn25BagAAAAOAGeGXRH/wAAL7SAYrtXiBh7SiOuy6WRdK9JmEFd1VM76HD4I2ZmFvM7TlBG+PqtHFZ3JB17I3pJAAAATQGeG2pH/wAAMR0vlJ2wzzLn/3SaHOYumppxGm0JeSeLChdzx/kMzqcotxgG8G4egIAQFUMSVxum/EnFW45ktn6pY4hi5YdnY+I//aSAAAAAgEGaAEmoQWiZTAhf//6MsAAAYBZyvWcAIwMEH+7uYDp6ca1Ee2JPPGbLzLNLxMOg+P/RpxnaBWRV59xl6amLe+KqdvYeg6BIk8jxHV5WDNzq2WPsAfhCIkTbPT/N0hoRPGnJED/uL0iz0oDjVFRi4kRte+xLMCVAO0Aubqh+3qtHAAAAYUGePkURLCP/AAAfGGutYVNNU2RFuin05tTlCpKlVPzOg1wcZBDB546P418nsrbwal+ASYlzgAmZnYvF5fIcZcJtJUNRqSQVNyaNmyMtL5NFY27f6Hi1CpcIqJ5vxMxi3zEAAABEAZ5ddEf/AAAxETE1CD5zW5XGkizYnStsWUV+4dPtmIcu5anTUgicGEG9fD4Xtoe1qGk87pAHANXW4VqQ/BAAorYd+m4AAAA9AZ5fakf/AAAyUl6Pa6GttJw59isce3o743d6F0pPO1Unw/pNWd2MYx3XULtntJoACXqVKiS1FgLPjAHXTQAAAGlBmkNJqEFsmUwIX//+jLAAAGKWXK5ABHJuOTk2Pe6ndLhdeK3AilL/46TBCEMvagbfxBHWdo391BkmBML+tkQadV9nUfJZrrb2+uCcijSCrqndbyqbA7J4vqKmeb1jgH8Y3MC85mHYk0AAAABSQZ5hRRUsI/8AAB8MnnF0P+w8Gq5is1gYMmSZjyq9QBExfGwh1GMTUYPpWzL3Om3Q9HNySfABBjtjnUWpqoJsCHxCOC/XdSRABRYHqIFlmj2CcQAAAD8BnoJqR/8AADJdJsHQi2MqCsCgD5I5dhUjQWeV6d8gUeLEkvHxj+xXZj/j9UkizAskGpQbjIASBKZ/ADpmscEAAACDQZqFSahBbJlMFEwv//6MsAAAYpYy9ZwAjIBwf7u4UE8GxYjxQiXdulNYc/x72Xu2hZHVKVshOK8lNZB3vAwqtexBtwtHQwKkw1Qpl1QZx01LmFp0/9NeF9ZVoTpZVdIq/04VoB6ZVcysURqFcyMxpS5EuXf2/cjLetAFQnGNEFfUDk4AAABQAZ6kakf/AAAxpRlqKF/tmLxETFUSEbzABYob/OTHxExtP+viAc+8ekcFK5NYbvDTfX2yJ3yZAA/cz+Kac2gVTxJ03uhdbim04ldlCLTXS4AAAACMQZqoSeEKUmUwIX/+jLAAAGUpB0wRsRAJqhWZsKibQW9X0lMZfNDBqM9tIFXcTaR2fMCuQiTSVsDozUMm2Hu208hSyJ+FaBG81/Advojh8/M6AW+RhDQMYEDQ/bTzjd/L0KRs/I+kJr8rRaJLDsA0PgbSQOquPzS3H6tbub33WaSq8PIOdRb5Jb//u9sAAABNQZ7GRTRMI/8AAB/IchFdgefLG0grsihCj7vd6S3dKzyC6bVJvFiYKUn4ZV2Agjoq1wADn2bnKZDKjuEBDqzgHWo+82tgBCXMTbYNV6AAAAA7AZ7nakf/AAAzdtfEgB0LXYsKiPtgNK7fmGWEmlBGwhdnuryQ7Easg1Ovv0OYBKx1V1o+pDsBznqzur0AAACFQZrsSahBaJlMCFf//jhAAAGRPiw2hXZgC+wuQplJw6g/rqXyv0nmrnqboeGebsWaJTTaNfHKyZg0aq9A6Jx7rZyyy31Tgp29pLZszj3cvS3J8UPxNTNfTvzdqJTH3Tc2BXmmW1h9rjUUnYJx/rU8yk1eriSfGxG0BWcuLt8PmsNQ4p6neAAAAG1BnwpFESwj/wAAILxrpdblvxitUdinDV5COFn86YAAcZxZdIPuTKCNBQL/3lSjt0PcupnykuPQsffg/DpyDqsvG9vFqJXBs+yzZuPVtbnm8Mrlf4zvlZxOv1Qn2QNORmoqgcRXycTeYvpaQ56FAAAATQGfKXRH/wAAM4bUs9ejt9RbGGvT7fI92rLCQdBieVaGGoyg/nxACzM6BKhahtobk1F3ay9oFjRTEFgskPERML9f7YBxGaj9quJ2BWtNAAAASgGfK2pH/wAANNJQ1+Erj/EkbDEzuNl608DCgBSC2gBJarv7U5Uglp0Cm490Bmi3mbd+6ZFnehFI8xjqgUQMGFSh6WTOOYz4MtCBAAAAeEGbLUmoQWyZTAhX//44QAABkTsPXXRvAJq0tJTl1aYL5xMTtuWVQWjntFuaHh5pVfIu6E5H3DZi/vdJlU7xa8XCJyVbnFgkqw8e5SnF02AWP0iC+oQ4PL9JT9TtJAYONVH+cK1bGHS0C9iwBt2kk9Me9zl+jU5gIQAAAGFBm05J4QpSZTAhX/44QAABkTkJyDGgTyEew3PfL0JttjDk/Kn5w5Cw4IkNVcRTdzSWi9IISLQZQXxIw1w1+cDnGsgA39M/TWuc1mPNj4oV//6qTNk3/gotPWS8At3LtrXYAAAAiEGbcknhDomUwIR//eEAAAZIhDeWRAQfiL4CUzmCu1Q2TvH/bRmTcXORv3EH5SMqdNpRTr64jJQ6b+vGlwD2H59BeIN+RDcn1uQU3nufpYlnf8ccj5SJDMZ/Ma9rwUanLSO8jbixSqp7tT/y2yIXaeCjBu2at2lK3ve0wTF/tjMbJx8G4b8yNpwAAABiQZ+QRRE8I/8AACG8KVqDkExvM1qUnFb0uGQBHOC1Ezy6nTY8P+rS2GuKCO7xSJjyoCfmA8AC3huSENCwKumf1zE8cwYMt29DV9aQSVKH6g87t7XVkYbe8M6FY7Y0FQtilxcAAABHAZ+vdEf/AAA0JG4xs04ZnmqKWCT2PLe7OVWz2QQtchjl8qvTsZAndnPtGTk3uz16eNyvcw11hg1qILxjeVW776eCDFxjvSAAAABCAZ+xakf/AAA2DyfmFEsvB4JnmAqR3qtvpOJ6r9imhJDNmjBkL4wYLZ3fC7CQBaYkUeKUxxS5w0luYrFrfy6qGQtMAAAAbEGbs0moQWiZTAj//IQAABh3rhMRgGpNAKPbbqWNTaxe1VyPcku/j9JqNrZ5frJEbESXV6iUoYNWfO9r/461qDpdkcZ5jBgoZwY6ZrezbnImWgpasGzTYMXz7/CE84EekDDZGR9NlbVGq+/VwQAAAF1Bm9RJ4QpSZTAhH/3hAAAGREhDod3tvx/+rGf3U012OQHRo6Gk2qXwZTRw6vaSVrsSJfpbg0gS3MAX4Y3t5BTvkI31M6L5a5Xngv2KlCWcvpcpNFqYJFYES0haJQsAAABsQZv3SeEOiZTAhH/94QAABmxU0M6wCacZa/m05t1UxszAw4zWf3pg1irvX+ouDF+h3eNISPS0nFc7YoeLfDLtJLos/xFdgh7F4UT6VBkQHr0JLCBMgtuaPByzt36sxciD5HGLHirwfPr214CFAAAAa0GeFUURPCP/AAAiumjYP48ATZF2SGHPOd3coKM/n5+PDeHL4s9yW0YClq5VMDLLRGLXZ0pnj2Dn2Q1FT7GGevyMVqoIEHKYNSl1/704gRg4ALR/m6ypcdhsPW2n82GRxQxWDfptqzVI5VT4AAAANQGeNmpH/wAAN08oLOHx2TiIiE6fAX2y/LQtfm9GHlPmJt+I1PnIybGlWYFcHR2uF/V/caPgAAAAZUGaO0moQWiZTAhH//3hAAAGmByhME12pJSRRG1ZvavZJPJj91GWuLeX2lX8XvfmKTV1QfdxAFcXpZEbCXw+Qi1iEKrUc0zyAS/KcPqEx3be8OnhrdlS8XEQHIGM5MkR1xD5IQZpAAAAS0GeWUURLCP/AAAjuo2jPAA6GjcfkDDYN/A3s2AIurysjf4C7HNzePS+jjVlf9LL4/KmP8XSN/24QFVNmn1CBz0KbL5v6w0AJdZlQAAAAD4Bnnh0R/8AADi7CIAMLGRzJPRr2+oZ+CStjpbUPYGIzmKxNqK6DV2Kb7VAAUel6kqfJBApQnsOU6nwL1QBxAAAADEBnnpqR/8AADisIqnDb29jN0rK5Vr8NMf7XdbC9VTEEfBlyK+KM1i/ep3LDkWrcIypAAAAXkGaf0moQWyZTAhH//3hAAAGn9G/zBnYpHqFB2xNo8DSmnoelSs9TOMbLAcKPmEq6WYk/0NS7AC6Qvq03CHFf5fTsnEhdwzNqeNwGs9+pD1y39gr3fdxzoikCihEztgAAABFQZ6dRRUsI/8AACO6lC/UtQWN7oqKEkPrNwcaasIggEarUB2HMc8M1pvYmaCPQocFrH6ih1V4fgNgxJU5YtMb5cEgpwdNAAAAOwGevHRH/wAAOK9GXdiwkJYd7Ls+AC1DuAupmLnBe7yduZaZZ61/DC+CUTicY88ZG4NGVrTS8+hgIUXBAAAAQAGevmpH/wAAOKWXwhINgB9xJcU781rNZpwb9j8Jz6GzOUrEBOHzat4JeMACDDd1T8E8LaCa4HNcGMER758a5jgAAAA2QZqiSahBbJlMCP/8hAAAAwOj6KJy9ioFsIj1HYrN+mU+KCePL0Hz+qNufSD5bw5xAvtA9QghAAAAM0GewEUVLCP/AAAhxT+vPwnYfxzDEJgTUFJLTti2ZFyZUxJcuto4wAhVRgeQaevMUQJPWgAAACwBnuFqR/8AADYSeKHS06nV3sBQ+YjjXVkw2YgBBrkyCLvyaV4WioMjBXyUPQAAFhttb292AAAAbG12aGQAAAAAAAAAAAAAAAAAAAPoAAAgRAABAAABAAAAAAAAAAAAAAAAAQAAAAAAAAAAAAAAAAAAAAEAAAAAAAAAAAAAAAAAAEAAAAAAAAAAAAAAAAAAAAAAAAAAAAAAAAAAAAAAAAACAAAVRXRyYWsAAABcdGtoZAAAAAMAAAAAAAAAAAAAAAEAAAAAAAAgRAAAAAAAAAAAAAAAAAAAAAAAAQAAAAAAAAAAAAAAAAAAAAEAAAAAAAAAAAAAAAAAAEAAAAACWAAAAZAAAAAAACRlZHRzAAAAHGVsc3QAAAAAAAAAAQAAIEQAAAIAAAEAAAAAFL1tZGlhAAAAIG1kaGQAAAAAAAAAAAAAAAAAADIAAAGdAFXEAAAAAAAtaGRscgAAAAAAAAAAdmlkZQAAAAAAAAAAAAAAAFZpZGVvSGFuZGxlcgAAABRobWluZgAAABR2bWhkAAAAAQAAAAAAAAAAAAAAJGRpbmYAAAAcZHJlZgAAAAAAAAABAAAADHVybCAAAAABAAAUKHN0YmwAAACYc3RzZAAAAAAAAAABAAAAiGF2YzEAAAAAAAAAAQAAAAAAAAAAAAAAAAAAAAACWAGQAEgAAABIAAAAAAAAAAEAAAAAAAAAAAAAAAAAAAAAAAAAAAAAAAAAAAAAAAAAAAAY//8AAAAyYXZjQwFkAB//4QAZZ2QAH6zZQJgz5eEAAAMAAQAAAwBkDxgxlgEABmjr48siwAAAABhzdHRzAAAAAAAAAAEAAAGdAAABAAAAABhzdHNzAAAAAAAAAAIAAAABAAAA+wAADKBjdHRzAAAAAAAAAZIAAAABAAACAAAAAAEAAAUAAAAAAQAAAgAAAAABAAAAAAAAAAEAAAEAAAAAAQAABQAAAAABAAACAAAAAAEAAAAAAAAAAQAAAQAAAAABAAAFAAAAAAEAAAIAAAAAAQAAAAAAAAABAAABAAAAAAEAAAUAAAAAAQAAAgAAAAABAAAAAAAAAAEAAAEAAAAAAQAABQAAAAABAAACAAAAAAEAAAAAAAAAAQAAAQAAAAABAAAEAAAAAAIAAAEAAAAAAQAABQAAAAABAAACAAAAAAEAAAAAAAAAAQAAAQAAAAABAAAFAAAAAAEAAAIAAAAAAQAAAAAAAAABAAABAAAAAAEAAAUAAAAAAQAAAgAAAAABAAAAAAAAAAEAAAEAAAAAAQAABQAAAAABAAACAAAAAAEAAAAAAAAAAQAAAQAAAAABAAAFAAAAAAEAAAIAAAAAAQAAAAAAAAABAAABAAAAAAEAAAUAAAAAAQAAAgAAAAABAAAAAAAAAAEAAAEAAAAAAQAABQAAAAABAAACAAAAAAEAAAAAAAAAAQAAAQAAAAABAAAFAAAAAAEAAAIAAAAAAQAAAAAAAAABAAABAAAAAAEAAAUAAAAAAQAAAgAAAAABAAAAAAAAAAEAAAEAAAAAAQAAAwAAAAABAAABAAAAAAEAAAUAAAAAAQAAAgAAAAABAAAAAAAAAAEAAAEAAAAAAQAABQAAAAABAAACAAAAAAEAAAAAAAAAAQAAAQAAAAABAAAFAAAAAAEAAAIAAAAAAQAAAAAAAAABAAABAAAAAAEAAAUAAAAAAQAAAgAAAAABAAAAAAAAAAEAAAEAAAAAAQAAAwAAAAABAAABAAAAAAEAAAUAAAAAAQAAAgAAAAABAAAAAAAAAAEAAAEAAAAAAQAABQAAAAABAAACAAAAAAEAAAAAAAAAAQAAAQAAAAABAAAEAAAAAAIAAAEAAAAAAQAABQAAAAABAAACAAAAAAEAAAAAAAAAAQAAAQAAAAABAAAFAAAAAAEAAAIAAAAAAQAAAAAAAAABAAABAAAAAAEAAAUAAAAAAQAAAgAAAAABAAAAAAAAAAEAAAEAAAAAAQAABAAAAAACAAABAAAAAAEAAAUAAAAAAQAAAgAAAAABAAAAAAAAAAEAAAEAAAAAAQAABQAAAAABAAACAAAAAAEAAAAAAAAAAQAAAQAAAAABAAAFAAAAAAEAAAIAAAAAAQAAAAAAAAABAAABAAAAAAEAAAUAAAAAAQAAAgAAAAABAAAAAAAAAAEAAAEAAAAAAQAABQAAAAABAAACAAAAAAEAAAAAAAAAAQAAAQAAAAABAAAFAAAAAAEAAAIAAAAAAQAAAAAAAAABAAABAAAAAAEAAAUAAAAAAQAAAgAAAAABAAAAAAAAAAEAAAEAAAAAAQAABQAAAAABAAACAAAAAAEAAAAAAAAAAQAAAQAAAAABAAAFAAAAAAEAAAIAAAAAAQAAAAAAAAABAAABAAAAAAEAAAUAAAAAAQAAAgAAAAABAAAAAAAAAAEAAAEAAAAAAQAAAgAAAAABAAAFAAAAAAEAAAIAAAAAAQAAAAAAAAABAAABAAAAAAEAAAUAAAAAAQAAAgAAAAABAAAAAAAAAAEAAAEAAAAAAQAABQAAAAABAAACAAAAAAEAAAAAAAAAAQAAAQAAAAABAAAFAAAAAAEAAAIAAAAAAQAAAAAAAAABAAABAAAAAAEAAAUAAAAAAQAAAgAAAAABAAAAAAAAAAEAAAEAAAAAAQAABQAAAAABAAACAAAAAAEAAAAAAAAAAQAAAQAAAAABAAAEAAAAAAIAAAEAAAAAAQAABQAAAAABAAACAAAAAAEAAAAAAAAAAQAAAQAAAAABAAAFAAAAAAEAAAIAAAAAAQAAAAAAAAABAAABAAAAAAEAAAUAAAAAAQAAAgAAAAABAAAAAAAAAAEAAAEAAAAAAQAABQAAAAABAAACAAAAAAEAAAAAAAAAAQAAAQAAAAABAAAFAAAAAAEAAAIAAAAAAQAAAAAAAAABAAABAAAAAAEAAAUAAAAAAQAAAgAAAAABAAAAAAAAAAEAAAEAAAAAAQAABQAAAAABAAACAAAAAAEAAAAAAAAAAQAAAQAAAAABAAAFAAAAAAEAAAIAAAAAAQAAAAAAAAABAAABAAAAAAEAAAUAAAAAAQAAAgAAAAABAAAAAAAAAAEAAAEAAAAAAQAABQAAAAABAAACAAAAAAEAAAAAAAAAAQAAAQAAAAABAAAFAAAAAAEAAAIAAAAAAQAAAAAAAAABAAABAAAAAAEAAAUAAAAAAQAAAgAAAAABAAAAAAAAAAEAAAEAAAAAAQAABQAAAAABAAACAAAAAAEAAAAAAAAAAQAAAQAAAAABAAAFAAAAAAEAAAIAAAAAAQAAAAAAAAABAAABAAAAAAEAAAUAAAAAAQAAAgAAAAABAAAAAAAAAAEAAAEAAAAAAQAABQAAAAABAAACAAAAAAEAAAAAAAAAAQAAAQAAAAABAAAFAAAAAAEAAAIAAAAAAQAAAAAAAAABAAABAAAAAAEAAAUAAAAAAQAAAgAAAAABAAAAAAAAAAEAAAEAAAAAAQAABQAAAAABAAACAAAAAAEAAAAAAAAAAQAAAQAAAAABAAACAAAAAAEAAAUAAAAAAQAAAgAAAAABAAAAAAAAAAEAAAEAAAAAAQAABQAAAAABAAACAAAAAAEAAAAAAAAAAQAAAQAAAAABAAAFAAAAAAEAAAIAAAAAAQAAAAAAAAABAAABAAAAAAEAAAUAAAAAAQAAAgAAAAABAAAAAAAAAAEAAAEAAAAAAQAABQAAAAABAAACAAAAAAEAAAAAAAAAAQAAAQAAAAABAAAFAAAAAAEAAAIAAAAAAQAAAAAAAAABAAABAAAAAAEAAAUAAAAAAQAAAgAAAAABAAAAAAAAAAEAAAEAAAAAAQAABQAAAAABAAACAAAAAAEAAAAAAAAAAQAAAQAAAAABAAAFAAAAAAEAAAIAAAAAAQAAAAAAAAABAAABAAAAAAEAAAUAAAAAAQAAAgAAAAABAAAAAAAAAAEAAAEAAAAAAQAABQAAAAABAAACAAAAAAEAAAAAAAAAAQAAAQAAAAABAAAFAAAAAAEAAAIAAAAAAQAAAAAAAAABAAABAAAAAAEAAAUAAAAAAQAAAgAAAAABAAAAAAAAAAEAAAEAAAAAAQAABQAAAAABAAACAAAAAAEAAAAAAAAAAQAAAQAAAAABAAAFAAAAAAEAAAIAAAAAAQAAAAAAAAABAAABAAAAAAEAAAUAAAAAAQAAAgAAAAABAAAAAAAAAAEAAAEAAAAAAQAABAAAAAACAAABAAAAAAEAAAUAAAAAAQAAAgAAAAABAAAAAAAAAAEAAAEAAAAAAQAABQAAAAABAAACAAAAAAEAAAAAAAAAAQAAAQAAAAABAAAFAAAAAAEAAAIAAAAAAQAAAAAAAAABAAABAAAAAAEAAAUAAAAAAQAAAgAAAAABAAAAAAAAAAEAAAEAAAAAAQAABQAAAAABAAACAAAAAAEAAAAAAAAAAQAAAQAAAAABAAADAAAAAAEAAAEAAAAAAQAAAwAAAAABAAABAAAAAAEAAAUAAAAAAQAAAgAAAAABAAAAAAAAAAEAAAEAAAAAAQAABQAAAAABAAACAAAAAAEAAAAAAAAAAQAAAQAAAAABAAAFAAAAAAEAAAIAAAAAAQAAAAAAAAABAAABAAAAAAEAAAUAAAAAAQAAAgAAAAABAAAAAAAAAAEAAAEAAAAAAQAAAgAAAAABAAAFAAAAAAEAAAIAAAAAAQAAAAAAAAABAAABAAAAAAEAAAUAAAAAAQAAAgAAAAABAAAAAAAAAAEAAAEAAAAAAQAAAwAAAAABAAABAAAAAAEAAAMAAAAAAQAAAQAAAAABAAAFAAAAAAEAAAIAAAAAAQAAAAAAAAABAAABAAAAAAEAAAUAAAAAAQAAAgAAAAABAAAAAAAAAAEAAAEAAAAAAQAABAAAAAACAAABAAAAAAEAAAMAAAAAAQAAAQAAAAABAAAEAAAAAAIAAAEAAAAAAQAABQAAAAABAAACAAAAAAEAAAAAAAAAAQAAAQAAAAACAAACAAAAAAEAAAUAAAAAAQAAAgAAAAABAAAAAAAAAAEAAAEAAAAAAgAAAgAAAAABAAAEAAAAAAIAAAEAAAAAAQAABQAAAAABAAACAAAAAAEAAAAAAAAAAQAAAQAAAAABAAAFAAAAAAEAAAIAAAAAAQAAAAAAAAABAAABAAAAAAEAAAQAAAAAAgAAAQAAAAAcc3RzYwAAAAAAAAABAAAAAQAAAZ0AAAABAAAGiHN0c3oAAAAAAAAAAAAAAZ0AAATlAAAA4AAAADoAAABRAAAANwAAAH8AAAA/AAAAKgAAADoAAAB4AAAALQAAADUAAAAvAAAATQAAADkAAAAdAAAAMQAAAD4AAAAqAAAANQAAACkAAABZAAAAMAAAACQAAABAAAAALQAAAEQAAAArAAAATAAAAB8AAAAWAAAAIwAAAGAAAAAuAAAAGQAAACIAAAAtAAAAMAAAADAAAAAhAAAAYAAAADEAAAAyAAAAJAAAAGQAAAA0AAAAHAAAACUAAAAuAAAAGQAAABIAAAAfAAAASwAAACEAAAA2AAAAEgAAAC4AAAAsAAAAGAAAABsAAABPAAAAHwAAAE0AAAAvAAAAMgAAABoAAABIAAAALAAAABkAAAA3AAAAWgAAAEMAAAAjAAAAKgAAAEYAAAAlAAAAKAAAAB4AAABfAAAAIwAAAHAAAAAjAAAAJwAAABcAAAA6AAAALgAAABgAAAArAAAAPAAAACMAAAAoAAAAZAAAACIAAAAVAAAAHAAAAEgAAAAxAAAAIAAAACMAAAA8AAAAHgAAABYAAAAXAAAAMgAAACEAAAAVAAAATgAAADwAAAA6AAAAKwAAADoAAAA5AAAANwAAABcAAAB3AAAAMAAAAB4AAAAjAAAARAAAACIAAAAeAAAAGAAAAFEAAAA1AAAALgAAAB4AAABWAAAANAAAAB8AAAAhAAAAPAAAACEAAAAWAAAAHAAAAEgAAAAqAAAAIQAAADAAAAA/AAAAKAAAABUAAAAjAAAAVAAAACoAAAAZAAAAKwAAAG0AAABEAAAAOwAAACwAAAAXAAAAQwAAACsAAAAYAAAAJQAAAGoAAAAlAAAALgAAACAAAAA9AAAAMQAAAB0AAAAdAAAAXAAAACsAAAAgAAAAMwAAAGcAAAA8AAAAJAAAACwAAABXAAAAQQAAACQAAABRAAAANAAAACMAAAAkAAAAMwAAACgAAAAaAAAAIAAAAEQAAABPAAAAKwAAACMAAABGAAAAOQAAACMAAAAjAAAASQAAADoAAAAhAAAAGQAAAFEAAAA6AAAAKAAAAC4AAABNAAAAOQAAACAAAAAYAAAAWQAAAC4AAAAjAAAAHQAAAFcAAAAmAAAAKAAAABYAAABgAAAAOQAAACEAAAAtAAAAaAAAAD4AAAAdAAAAIwAAAFIAAAAnAAAAMQAAACQAAABJAAAAOAAAABwAAAAyAAAARAAAAD0AAAAjAAAAHwAAAEgAAABAAAAAMgAAADEAAABtAAAAQAAAAB4AAAAtAAAASwAAAC0AAAAjAAAAIQAAAFIAAAAoAAAALAAAACwAAABCAAAAPwAAACwAAAArAAABtgAAAHMAAAAjAAAAMQAAAB8AAABIAAAAOQAAADgAAAArAAAAPgAAADgAAAA3AAAAJwAAAEQAAAAqAAAAOgAAACkAAABZAAAAMwAAADYAAAApAAAAXAAAADgAAAAjAAAAJAAAAEQAAAAqAAAANgAAACgAAABSAAAANAAAADAAAAAvAAAAYQAAADcAAAAwAAAAJQAAAEgAAAAoAAAAMQAAACcAAABVAAAAOQAAACAAAAAjAAAAYwAAADkAAAAmAAAAJgAAAFYAAAAvAAAAJQAAACUAAABtAAAAMwAAACcAAAAmAAAAcAAAAFcAAAA1AAAAMQAAAF8AAABbAAAAOAAAAEIAAAA4AAAATQAAAD8AAABsAAAAPgAAAEIAAABDAAAAbQAAAEsAAAAyAAAAOwAAAIwAAABlAAAAQgAAAEkAAACQAAAATAAAAEcAAABBAAAAZwAAADQAAABJAAAAQwAAAGoAAAA5AAAAXgAAAEEAAABfAAAARQAAADsAAAA7AAAAbgAAAE0AAABNAAAAVAAAAGcAAAA6AAAAUQAAAEQAAABpAAAAPwAAAFAAAABNAAAAZgAAAGgAAABJAAAARgAAAEgAAAB/AAAARwAAADsAAABCAAAAaAAAAEkAAAB7AAAAUgAAAIsAAABGAAAAPAAAAFEAAACEAAAAZQAAAEgAAABBAAAAbQAAAFYAAABDAAAAhwAAAFQAAACQAAAAUQAAAD8AAACJAAAAcQAAAFEAAABOAAAAfAAAAGUAAACMAAAAZgAAAEsAAABGAAAAcAAAAGEAAABwAAAAbwAAADkAAABpAAAATwAAAEIAAAA1AAAAYgAAAEkAAAA/AAAARAAAADoAAAA3AAAAMAAAABRzdGNvAAAAAAAAAAEAAAAwAAAAYnVkdGEAAABabWV0YQAAAAAAAAAhaGRscgAAAAAAAAAAbWRpcmFwcGwAAAAAAAAAAAAAAAAtaWxzdAAAACWpdG9vAAAAHWRhdGEAAAABAAAAAExhdmY1OC4yOS4xMDA=\" type=\"video/mp4\" />\n",
              "             </video>"
            ]
          },
          "metadata": {}
        }
      ],
      "source": [
        "env = wrap_env(gym.make('CartPole-v1'))\n",
        "\n",
        "input_dim = env.observation_space.shape[0]\n",
        "output_dim = env.action_space.n\n",
        "model_validate = DQN_Network(layer_size_list=[input_dim, 64, output_dim], lr=1e-3)\n",
        "model_validate.load_pretrained_model(\"cartpole-dqn.pth\")\n",
        "\n",
        "reward_arr = []\n",
        "for i in tqdm(range(200)):\n",
        "    obs, done, rew = env.reset(), False, 0\n",
        "    env.render()\n",
        "    while not done:\n",
        "        A = get_action(model_validate, obs, env.action_space.n, epsilon=0)\n",
        "        obs, reward, done, info = env.step(A.item())\n",
        "        rew += reward\n",
        "        # sleep(0.01)\n",
        "\n",
        "    reward_arr.append(rew)\n",
        "print(\"average reward per episode :\", sum(reward_arr) / len(reward_arr))\n",
        "env.close()\n",
        "show_video()"
      ]
    },
    {
      "cell_type": "code",
      "execution_count": 13,
      "metadata": {
        "id": "VTAa6RAWTKZJ"
      },
      "outputs": [],
      "source": []
    }
  ],
  "metadata": {
    "accelerator": "GPU",
    "colab": {
      "provenance": []
    },
    "kernelspec": {
      "display_name": "Python 3 (ipykernel)",
      "language": "python",
      "name": "python3"
    },
    "language_info": {
      "codemirror_mode": {
        "name": "ipython",
        "version": 3
      },
      "file_extension": ".py",
      "mimetype": "text/x-python",
      "name": "python",
      "nbconvert_exporter": "python",
      "pygments_lexer": "ipython3",
      "version": "3.7.13"
    }
  },
  "nbformat": 4,
  "nbformat_minor": 0
}