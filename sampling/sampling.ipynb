{
 "cells": [
  {
   "cell_type": "code",
   "execution_count": null,
   "id": "d66c948e",
   "metadata": {},
   "outputs": [],
   "source": [
    "import numpy as np\n",
    "from matplotlib import pyplot as plt\n",
    "\n",
    "np.random.seed(0)"
   ]
  },
  {
   "cell_type": "markdown",
   "id": "de91feb5",
   "metadata": {},
   "source": [
    "## Inverse CDF Sampling\n",
    "\n",
    "For a given probability distribution $p(x)$, if we want to directly sample from it, what we need to do is simple. Firstly, compute the Cumulative Density Function, $F(x)$. Then, compute the inverse function of this CFD, $F^{-1}(y)$. Since the domain is $[0, 1]$, we can sample $y_i$ from $Uni(0, 1)$, and obtain $x_i = F^{-1}(y_i)$. In this way, we get $\\{x_i\\}_{i=1}^{N}$ i.i.d. samples from $p(x)$.\n",
    "\n",
    "**Limitations:**\n",
    "- CDF has no close form,\n",
    "- Inverse function is intractable."
   ]
  },
  {
   "cell_type": "code",
   "execution_count": null,
   "id": "baf803bf",
   "metadata": {},
   "outputs": [],
   "source": [
    "class InverseCDFSampler:\n",
    "    \n",
    "    def __init__(self, cdf_inverse, dim, N):\n",
    "        \"\"\"Set up number of samples and the dimension of each sample point.\"\"\"\n",
    "        self.obj_func = np.vectorize(cdf_inverse)\n",
    "        self.dim = dim\n",
    "        self.num_samples = N\n",
    "    \n",
    "    def sample(self):\n",
    "        # Generate random numbers in [0, 1)\n",
    "        y = np.random.rand(self.num_samples, self.dim)\n",
    "        \n",
    "        # Apply CDF inverse to get samples\n",
    "        x = self.obj_func(y)\n",
    "        \n",
    "        return np.hstack((x, y))"
   ]
  },
  {
   "cell_type": "code",
   "execution_count": null,
   "id": "8820dcde",
   "metadata": {},
   "outputs": [],
   "source": [
    "mean = 0\n",
    "std = 1\n",
    "variance = np.square(std)\n",
    "x = np.arange(0,1,.01)\n",
    "\n",
    "# f = np.piecewise(x, [x < 0, (x < 1) * (x > 0), x >= 1, x > 2], [0, lambda x: x, lambda x: 2-x, 0])\n",
    "p_x = np.piecewise(x, [x < 0, (x >= 0) * (x < 1), x >= 1], [0, lambda x: 3 * np.square(x), 0])\n",
    "plt.plot(x, p_x)\n",
    "plt.ylabel('p(x)')\n",
    "plt.show()"
   ]
  },
  {
   "cell_type": "code",
   "execution_count": null,
   "id": "8faa6f43",
   "metadata": {},
   "outputs": [],
   "source": [
    "# Calculate the CDF and inverse CDF\n",
    "# cdf = np.piecewise(x, [x < 0, (x >= 0) * (x < 1), x >= 1, x > 2], [0, lambda x: 0.5 * np.square(x), lambda x: -0.5 * np.square(x) + 2 * x - 1, 1])\n",
    "\n",
    "cdf = np.power(x, 3)"
   ]
  },
  {
   "cell_type": "code",
   "execution_count": null,
   "id": "4e199195",
   "metadata": {
    "scrolled": true
   },
   "outputs": [],
   "source": [
    "plt.plot(np.arange(0,1,.01), cdf)\n",
    "plt.ylabel('cdf')\n",
    "plt.show()"
   ]
  },
  {
   "cell_type": "code",
   "execution_count": null,
   "id": "a25d1d7c",
   "metadata": {},
   "outputs": [],
   "source": [
    "y = np.arange(0, 1, .001)\n",
    "# cdf_inv = np.piecewise(y, [y < 0, (y >= 0) * (y < 0.5), y >= 0.5, y > 1], [0, lambda y: 2 * y, lambda y: 2 + np.sqrt(14 - 2 * y)-(1 + np.sqrt(13)), 1])\n",
    "cdf_inv = np.cbrt(y)"
   ]
  },
  {
   "cell_type": "code",
   "execution_count": null,
   "id": "837ee239",
   "metadata": {},
   "outputs": [],
   "source": [
    "plt.plot(np.arange(0,1,.001), cdf_inv)\n",
    "plt.ylabel('inverse cdf')\n",
    "plt.show()"
   ]
  },
  {
   "cell_type": "code",
   "execution_count": null,
   "id": "b628eb99",
   "metadata": {},
   "outputs": [],
   "source": [
    "# def p_x(x):\n",
    "#     if x < 0:\n",
    "#         return 0\n",
    "#     elif 0 <= x < 1:\n",
    "#         return x\n",
    "#     elif 1 < x <= 2:\n",
    "#         return 2 - x\n",
    "#     else:\n",
    "#         return 0\n",
    "\n",
    "def cdf_inv(y):\n",
    "    if y < 0:\n",
    "        return 0\n",
    "    elif 0 <= y < 0.5:\n",
    "        return np.sqrt(2 * y)\n",
    "    elif 0.5 < y <= 1:\n",
    "        return 2 - np.sqrt(2 - 2 * y)\n",
    "    else:\n",
    "        return 0\n",
    "\n",
    "samples1 = InverseCDFSampler(np.cbrt, dim=1, N=10000).sample()\n",
    "\n",
    "samples2 = InverseCDFSampler(cdf_inv, dim=1, N=10000).sample()\n",
    "\n",
    "counts, bins = np.histogram(samples2[:,0], density=True, bins=100)\n",
    "plt.stairs(counts, bins)\n",
    "p_x = np.piecewise(x, [x < 0, (x >= 0) * (x < 1), x >= 1], [0, lambda x: 3 * np.square(x), 0])\n",
    "plt.plot(x, p_x)"
   ]
  },
  {
   "cell_type": "code",
   "execution_count": null,
   "id": "2b2255ba",
   "metadata": {},
   "outputs": [],
   "source": [
    "samples2 = InverseCDFSampler(np.cbrt, dim=1, N=1000).sample()"
   ]
  },
  {
   "cell_type": "code",
   "execution_count": null,
   "id": "dde9919a",
   "metadata": {},
   "outputs": [],
   "source": []
  }
 ],
 "metadata": {
  "kernelspec": {
   "display_name": "Python 3 (ipykernel)",
   "language": "python",
   "name": "python3"
  },
  "language_info": {
   "codemirror_mode": {
    "name": "ipython",
    "version": 3
   },
   "file_extension": ".py",
   "mimetype": "text/x-python",
   "name": "python",
   "nbconvert_exporter": "python",
   "pygments_lexer": "ipython3",
   "version": "3.9.0"
  }
 },
 "nbformat": 4,
 "nbformat_minor": 5
}
