{
 "cells": [
  {
   "cell_type": "code",
   "execution_count": 1,
   "id": "41e016ce",
   "metadata": {
    "id": "41e016ce"
   },
   "outputs": [],
   "source": [
    "import sys\n",
    "import numpy as np\n",
    "from scipy.stats import norm\n",
    "\n",
    "# Include the parent directory in package searching path.\n",
    "sys.path.append(\"../\")\n",
    "\n",
    "# from utils import plot_series\n",
    "from matplotlib import pyplot as plt\n",
    "\n",
    "np.random.seed(0)"
   ]
  },
  {
   "cell_type": "markdown",
   "id": "e27167e9",
   "metadata": {
    "id": "e27167e9"
   },
   "source": [
    "## Markov Chain and Stationary Distribution\n",
    "\n",
    "Suppose we use a Markov Chain to model the employment of new-grad in IT job market. We propose the following **transition matrix**, $A$:\n",
    "\n",
    "\n",
    "|             | Unemployed  | Seeking | Working |\n",
    "|-------------|-------------|---------|---------|\n",
    "| Unemployed  | 0.2         | 0.8     | 0.0     |\n",
    "| Seeking     | 0.1         | 0.6     | 0.3     |\n",
    "| Working     | 0.1         | 0.1     | 0.8     |\n",
    "\n",
    "Here, $A_{ij} = p(s_{t} = j | s_{t-1} = i)$, for example, the probability that an unemployed new-grad seeks a job is 0.8; the probability of a job seeker getting a job is 0.3. We assume there's no jump from Unemployed directly to Working, i.e. no nepotism :)\n",
    "\n",
    "We also have some prior knowledge about the states at time 0, that is: the majority of students after graduation will seek a job, only a few of them have a job secured before graduation, and only a few will choose to live a different life - travelling the world - for instance.\n",
    "\n",
    "Hence, we have a **prior distribution** of the states of the chain. $\\pi_{0} = [0.1\\;\\; 0.7\\;\\; 0.2]$, note that this is a row vector.\n",
    "\n",
    "**Objective**: study how the distribution of employment changes over time, i.e. what is $\\pi_{t}$.\n",
    "\n",
    "Let $\\pi_t(j) = p(s_{t} = j)$, i.e. $\\pi_{t}(\\text{Working}) =$ at time $t$, the probability that people start Working.\n",
    "\n",
    "$$\n",
    "\\begin{align}\n",
    "\\pi_t(j) &= \\sum_{i} p(x_{t}=j|x_{t-1}=i)\\pi_{t-1}(i) \\\\\n",
    "       &= \\sum_{i} A_{ij} \\pi_{t-1}(i)\\\\\n",
    "\\end{align}\n",
    "$$\n",
    "\n",
    "Therefore, $\\pi_{t} = \\pi_{t-1} A$, more over, $\\pi_{t} = \\pi_{0} A^t$."
   ]
  },
  {
   "cell_type": "code",
   "execution_count": 2,
   "id": "7e5f55bd",
   "metadata": {
    "id": "7e5f55bd"
   },
   "outputs": [],
   "source": [
    "class StationaryDiscreteMarkovChain:\n",
    "    \n",
    "    def __init__(self, transition_matrix, prior, epoch=100):\n",
    "        self.A = transition_matrix\n",
    "        self.pi_0 = prior[:]\n",
    "        self.pi_t = prior[:]\n",
    "        self.curr_epoch = 0\n",
    "        self.targer_epoch = epoch\n",
    "    \n",
    "    def step(self):\n",
    "        self.pi_t = self.pi_t @ self.A\n",
    "        self.curr_epoch += 1\n",
    "        return self.pi_t\n",
    "    \n",
    "    def __iter__(self):\n",
    "        return self\n",
    "    \n",
    "    def __next__(self):\n",
    "        if self.curr_epoch < self.targer_epoch:\n",
    "            return self.step()\n",
    "        else:\n",
    "            raise StopIteration"
   ]
  },
  {
   "cell_type": "code",
   "execution_count": 3,
   "id": "423ffe2d",
   "metadata": {
    "id": "423ffe2d"
   },
   "outputs": [],
   "source": [
    "# we want to see the distribution after 30 time steps\n",
    "epoch = 30\n",
    "\n",
    "transition_matrix = np.array([[0.2, 0.8, 0.0], [0.1, 0.6, 0.3], [0.1, 0.1, 0.8]])\n",
    "prior = np.array([0.1, 0.7, 0.2])\n",
    "record = prior[:]\n",
    "\n",
    "for pi in StationaryDiscreteMarkovChain(transition_matrix, prior, epoch=30):\n",
    "    record = np.vstack((record, pi))"
   ]
  },
  {
   "cell_type": "markdown",
   "id": "e50415a3",
   "metadata": {
    "id": "e50415a3"
   },
   "source": [
    "### Visualize the distribution after 30 time steps.\n",
    "\n",
    "We can see that the distribution $\\pi$ converges as time progresses, and this $\\pi$ is called **stationary distribution**."
   ]
  },
  {
   "cell_type": "code",
   "execution_count": 4,
   "id": "d4dfd6d4",
   "metadata": {
    "colab": {
     "base_uri": "https://localhost:8080/",
     "height": 265
    },
    "id": "d4dfd6d4",
    "outputId": "57bd3a0b-8bb1-4a82-ee29-19472d3cf38b"
   },
   "outputs": [
    {
     "data": {
      "image/png": "[encoded data removed]",
      "text/plain": [
       "<Figure size 432x288 with 1 Axes>"
      ]
     },
     "metadata": {
      "needs_background": "light"
     },
     "output_type": "display_data"
    }
   ],
   "source": [
    "x = np.arange(31)\n",
    "plt.plot(x, record[:,0], label=\"Unemployed\")\n",
    "plt.plot(x, record[:,1], label=\"Seeking\")\n",
    "plt.plot(x, record[:,2], label=\"Working\")\n",
    "plt.legend()\n",
    "plt.show()"
   ]
  },
  {
   "cell_type": "markdown",
   "id": "665730d4",
   "metadata": {
    "id": "665730d4"
   },
   "source": [
    "### Independent of starting distribution/prior\n",
    "\n",
    "For different prior distribution, the Markov Chain always converges to a stationary distribution."
   ]
  },
  {
   "cell_type": "code",
   "execution_count": 5,
   "id": "18837d91",
   "metadata": {
    "colab": {
     "base_uri": "https://localhost:8080/",
     "height": 352
    },
    "id": "18837d91",
    "outputId": "344baf1a-be5c-4125-eb59-dbafeab06f53"
   },
   "outputs": [
    {
     "name": "stdout",
     "output_type": "stream",
     "text": [
      "[0.11111111 0.35555556 0.53333333]\n",
      "[0.11111111 0.35555556 0.53333333]\n",
      "[0.11111111 0.35555556 0.53333333]\n",
      "[0.11111111 0.35555556 0.53333333]\n",
      "[0.11111111 0.35555556 0.53333333]\n"
     ]
    },
    {
     "data": {
      "image/png": "[encoded data removed]",
      "text/plain": [
       "<Figure size 1152x288 with 5 Axes>"
      ]
     },
     "metadata": {
      "needs_background": "light"
     },
     "output_type": "display_data"
    }
   ],
   "source": [
    "fig, ax = plt.subplots(1, 5)\n",
    "for i in range(5):\n",
    "    prior = np.random.rand(3)\n",
    "    prior = prior / np.sum(prior)\n",
    "    record = prior[:]\n",
    "    for pi in StationaryDiscreteMarkovChain(transition_matrix, prior, epoch=30):\n",
    "        record = np.vstack((record, pi))\n",
    "    print(record[-1])\n",
    "    ax[i].plot(x, record[:,0], label=\"Unemployed\")\n",
    "    ax[i].plot(x, record[:,1], label=\"Seeking\")\n",
    "    ax[i].plot(x, record[:,2], label=\"Working\")\n",
    "    ax[i].legend()\n",
    "fig.set_figwidth(16)"
   ]
  },
  {
   "cell_type": "markdown",
   "id": "7754EEMtz-Yx",
   "metadata": {
    "id": "7754EEMtz-Yx"
   },
   "source": [
    "### Detailed Balance\n",
    "\n",
    "How can we construct a Markov Chain such that it eventually converges to a stationary distribution $\\pi$? We construct a detailed balance Markov Chain.\n",
    "\n",
    "**Detailed Balance**: $\\pi_i A_{ij} = \\pi_j A_{ji}, \\forall i, j$\n",
    "\n",
    "*Proof* Detailed Balance $\\implies$ Stationary Distribution\n",
    "\n",
    "Show: $\\pi A = \\pi$, which means proving $\\forall i, \\sum_{j} \\pi_j A_{ji} = \\pi_i$.\n",
    "\n",
    "$$\n",
    "\\begin{align}\n",
    "\\sum_{j} \\pi_j A_{ji} = \\sum_{j} \\pi_{i} A_{ij} = \\pi_i \\sum_{j} A_{ij} = \\pi_{i} \\cdot 1 = \\pi_{i}\\\\\n",
    "\\end{align}\n",
    "$$\n",
    "\n",
    "Now, since we have shown Detailed Balance implies Stationary Distribution, we want to construct a detailed balanced Markov Chain that converges to $\\pi = p(x)$."
   ]
  },
  {
   "cell_type": "markdown",
   "id": "sESqYcUjF9aU",
   "metadata": {
    "id": "sESqYcUjF9aU"
   },
   "source": [
    "## MCMC - Metropolis Hastings\n",
    "\n",
    "We construct a Markov Chain:\n",
    "\n",
    "Let $\\pi = \\tilde{p}(x)$, our objective function to sample from,\n",
    "\n",
    "Let $\\tilde{q}(x'|x_t)$ be a proposal distribution / proposal transition function $\\tilde{q}:\\mathbb{R}^2→[0,1]$.\n",
    "\n",
    "Let $\\alpha(x'|x_t)$ be an rejection/acceptance function, where $\\alpha(x'|x_t) = min\\{1, \\frac{\\tilde{p}(x') \\tilde{q}(x_t | x')}{\\tilde{p}(x_t) \\tilde{q}(x'| x_t)}\\}$, i.e. the probability that we accept new sample $x'$ given the current sample $x_t$.\n",
    "\n",
    "The transition matrix is hence $Q = \\tilde{q} ⊙ \\alpha$\n",
    "\n",
    "We want to prove detailed balance:\n",
    "\n",
    "$$\n",
    "\\tilde{p}(x_t) \\tilde{q}(x'| x_t) \\alpha(x'|x_t) = \\tilde{p}(x') \\tilde{q}(x_t | x') \\alpha(x_t|x')\n",
    "$$\n",
    "\n",
    "Notation explanation: we currently have generated $t$ samples, $x_1, ..., x_t$. The newly generated sample is $x'$.\n",
    "\n",
    "*proof* We want to prove the statement in two cases:\n",
    "\n",
    "**Case 1**: $1 < \\frac{\\tilde{p}(x') \\tilde{q}(x_t | x')}{\\tilde{p}(x_t) \\tilde{q}(x'| x_t)}$\n",
    "\n",
    "LHS: \n",
    "\n",
    "$$\n",
    "\\begin{align}\n",
    "\\alpha(x'|x_t) &= min\\{1, \\frac{\\tilde{p}(x') \\tilde{q}(x_t | x')}{\\tilde{p}(x_t) \\tilde{q}(x'| x_t)}\\} = 1\\\\\n",
    "\\tilde{p}(x_t) \\tilde{q}(x'| x_t) \\alpha(x'|x_t) &= \\tilde{p}(x_t) \\tilde{q}(x'| x_t)\\\\\n",
    "\\end{align}\n",
    "$$\n",
    "\n",
    "RHS:\n",
    "\n",
    "$$\n",
    "\\begin{align}\n",
    "\\alpha(x_t|x') &= min\\{1, \\frac{\\tilde{p}(x_t) \\tilde{q}(x' | x_t)}{\\tilde{p}(x') \\tilde{q}(x_t| x')}\\} = \\frac{\\tilde{p}(x_t) \\tilde{q}(x' | x_t)}{\\tilde{p}(x') \\tilde{q}(x_t| x')}\\\\\n",
    "\\tilde{p}(x') \\tilde{q}(x_t | x') \\alpha(x_t|x') &= \\tilde{p}(x') \\tilde{q}(x_t | x') \\frac{\\tilde{p}(x_t) \\tilde{q}(x' | x_t)}{\\tilde{p}(x') \\tilde{q}(x_t| x')}\\\\\n",
    "&=\\tilde{p}(x_t) \\tilde{q}(x' | x_t)\\\\\n",
    "\\end{align}\n",
    "$$\n",
    "\n",
    "Therefore, LHS = RHS.\n",
    "\n",
    "**Case 2**: $\\frac{\\tilde{p}(x') \\tilde{q}(x_t | x')}{\\tilde{p}(x_t) \\tilde{q}(x'| x_t)} < 1$\n",
    "\n",
    "WLOG, we can use the same heuristics to prove.\n",
    "\n",
    "\n",
    "Thus, we have constructed a Markov Chain that converges to a stationary distribution $\\tilde{p}(x)$, and all accepted sample follows this distribution."
   ]
  },
  {
   "cell_type": "code",
   "execution_count": 6,
   "id": "Ar52JMw3btZY",
   "metadata": {
    "id": "Ar52JMw3btZY"
   },
   "outputs": [],
   "source": [
    "class MetropolisHastingsSampler:\n",
    "    \"\"\"In this implementation of Metropolis Hastings, we use Normal(1, 2) as the proposal transition distribution.\n",
    "    \"\"\"\n",
    "\n",
    "    def __init__(self, obj_func, dim=1, num_samples=10000, burn_in=20):\n",
    "        self.p = np.vectorize(obj_func)\n",
    "        self.d = dim\n",
    "        self.N = num_samples\n",
    "        self.burn_in = burn_in\n",
    "        self.mean = 1\n",
    "        self.var = 2\n",
    "  \n",
    "    def sample(self):\n",
    "        samples = np.zeros((self.N + self.burn_in, self.d))\n",
    "        cnt = 1\n",
    "\n",
    "        # randomly initialize x_0.\n",
    "        x = np.random.rand(self.d)\n",
    "\n",
    "        while cnt < self.N + self.burn_in:\n",
    "            # Sample a new data point by generating a random walk \n",
    "            # centered at the current datapoint.\n",
    "            x_new = norm.rvs(loc=x, scale=self.var, size=1, random_state=None)\n",
    "    \n",
    "            # q(x_t | x') = the probability of x_t appearing in the neighbor of a Normal centered at x'.\n",
    "            likelihood_x_t = norm(x_new, self.var).pdf(x)\n",
    "            # q(x' | x_t) = the probability of x' appearing in the neighbor of a Normal centered at x_t.\n",
    "            lilelihood_x_prime = norm(x, self.var).pdf(x_new)\n",
    "            \n",
    "            # Compute acceptance rate.\n",
    "            enum = (self.p(x_new) * likelihood_x_t)\n",
    "            demon = (self.p(x) * lilelihood_x_prime)\n",
    "            if demon == 0.:\n",
    "                continue\n",
    "    \n",
    "            alpha = min(1., enum / demon)\n",
    "            u = np.random.rand()\n",
    "\n",
    "            if u < alpha:\n",
    "                samples[cnt] = x_new\n",
    "                x = x_new\n",
    "            else:\n",
    "                # reuse sample\n",
    "                samples[cnt] = x\n",
    "\n",
    "            cnt += 1\n",
    "\n",
    "        return samples[self.burn_in:]"
   ]
  },
  {
   "cell_type": "markdown",
   "id": "03625421",
   "metadata": {},
   "source": [
    "### Test sampling\n",
    "\n",
    "- Tent function"
   ]
  },
  {
   "cell_type": "code",
   "execution_count": 7,
   "id": "xLMVXJFCtr-k",
   "metadata": {
    "colab": {
     "base_uri": "https://localhost:8080/",
     "height": 282
    },
    "id": "xLMVXJFCtr-k",
    "outputId": "44d42b8b-aff0-4d0e-d241-3cf8702480f5"
   },
   "outputs": [],
   "source": [
    "def tent_pdf(x):\n",
    "    if 0 <= x < 1:\n",
    "        return x\n",
    "    elif 1 <= x <= 2:\n",
    "        return 2 - x\n",
    "    else:\n",
    "        return 0"
   ]
  },
  {
   "cell_type": "code",
   "execution_count": 8,
   "id": "cCBmYbf2vMEe",
   "metadata": {
    "colab": {
     "base_uri": "https://localhost:8080/",
     "height": 282
    },
    "id": "cCBmYbf2vMEe",
    "outputId": "382920b4-1b80-494c-bd29-255c34f495ae"
   },
   "outputs": [
    {
     "data": {
      "text/plain": [
       "[<matplotlib.lines.Line2D at 0x25613793af0>]"
      ]
     },
     "execution_count": 8,
     "metadata": {},
     "output_type": "execute_result"
    },
    {
     "data": {
      "image/png": "[encoded data removed]",
      "text/plain": [
       "<Figure size 432x288 with 1 Axes>"
      ]
     },
     "metadata": {
      "needs_background": "light"
     },
     "output_type": "display_data"
    }
   ],
   "source": [
    "samples = MetropolisHastingsSampler(np.vectorize(tent_pdf), dim=1, num_samples=100000, burn_in=20).sample()\n",
    "\n",
    "counts, bins = np.histogram(samples, density=True, bins=100)\n",
    "plt.stairs(counts, bins, label='Sample Distribution')\n",
    "\n",
    "x = np.arange(0, 2, 0.01)\n",
    "plt.plot(x, np.vectorize(tent_pdf)(x), label=\"p(x)\", alpha=0.7)"
   ]
  }
 ],
 "metadata": {
  "colab": {
   "provenance": []
  },
  "kernelspec": {
   "display_name": "Python 3 (ipykernel)",
   "language": "python",
   "name": "python3"
  },
  "language_info": {
   "codemirror_mode": {
    "name": "ipython",
    "version": 3
   },
   "file_extension": ".py",
   "mimetype": "text/x-python",
   "name": "python",
   "nbconvert_exporter": "python",
   "pygments_lexer": "ipython3",
   "version": "3.9.0"
  }
 },
 "nbformat": 4,
 "nbformat_minor": 5
}
